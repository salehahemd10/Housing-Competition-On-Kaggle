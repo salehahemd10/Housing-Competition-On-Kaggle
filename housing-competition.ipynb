{
 "cells": [
  {
   "cell_type": "code",
   "execution_count": 1,
   "id": "354cb2be",
   "metadata": {
    "_cell_guid": "b1076dfc-b9ad-4769-8c92-a6c4dae69d19",
    "_uuid": "8f2839f25d086af736a60e9eeb907d3b93b6e0e5",
    "execution": {
     "iopub.execute_input": "2025-03-16T12:13:09.864128Z",
     "iopub.status.busy": "2025-03-16T12:13:09.863695Z",
     "iopub.status.idle": "2025-03-16T12:13:10.745486Z",
     "shell.execute_reply": "2025-03-16T12:13:10.744281Z"
    },
    "papermill": {
     "duration": 0.8994,
     "end_time": "2025-03-16T12:13:10.747380",
     "exception": false,
     "start_time": "2025-03-16T12:13:09.847980",
     "status": "completed"
    },
    "tags": []
   },
   "outputs": [
    {
     "name": "stdout",
     "output_type": "stream",
     "text": [
      "/kaggle/input/home-data-for-ml-course/sample_submission.csv\n",
      "/kaggle/input/home-data-for-ml-course/sample_submission.csv.gz\n",
      "/kaggle/input/home-data-for-ml-course/train.csv.gz\n",
      "/kaggle/input/home-data-for-ml-course/data_description.txt\n",
      "/kaggle/input/home-data-for-ml-course/test.csv.gz\n",
      "/kaggle/input/home-data-for-ml-course/train.csv\n",
      "/kaggle/input/home-data-for-ml-course/test.csv\n"
     ]
    }
   ],
   "source": [
    "# This Python 3 environment comes with many helpful analytics libraries installed\n",
    "# It is defined by the kaggle/python Docker image: https://github.com/kaggle/docker-python\n",
    "# For example, here's several helpful packages to load\n",
    "\n",
    "import numpy as np # linear algebra\n",
    "import pandas as pd # data processing, CSV file I/O (e.g. pd.read_csv)\n",
    "\n",
    "# Input data files are available in the read-only \"../input/\" directory\n",
    "# For example, running this (by clicking run or pressing Shift+Enter) will list all files under the input directory\n",
    "\n",
    "import os\n",
    "for dirname, _, filenames in os.walk('/kaggle/input'):\n",
    "    for filename in filenames:\n",
    "        print(os.path.join(dirname, filename))\n",
    "\n",
    "# You can write up to 20GB to the current directory (/kaggle/working/) that gets preserved as output when you create a version using \"Save & Run All\" \n",
    "# You can also write temporary files to /kaggle/temp/, but they won't be saved outside of the current session"
   ]
  },
  {
   "cell_type": "code",
   "execution_count": 2,
   "id": "a3b94d65",
   "metadata": {
    "execution": {
     "iopub.execute_input": "2025-03-16T12:13:10.777941Z",
     "iopub.status.busy": "2025-03-16T12:13:10.777429Z",
     "iopub.status.idle": "2025-03-16T12:13:13.187823Z",
     "shell.execute_reply": "2025-03-16T12:13:13.186678Z"
    },
    "papermill": {
     "duration": 2.428587,
     "end_time": "2025-03-16T12:13:13.189724",
     "exception": false,
     "start_time": "2025-03-16T12:13:10.761137",
     "status": "completed"
    },
    "tags": []
   },
   "outputs": [],
   "source": [
    "import numpy as np\n",
    "import pandas as pd\n",
    "from sklearn.model_selection import train_test_split\n",
    "from sklearn.linear_model import LogisticRegression,LinearRegression\n",
    "from sklearn.pipeline import Pipeline\n",
    "from sklearn.preprocessing import PolynomialFeatures, StandardScaler\n",
    "from sklearn.linear_model import Ridge  # Using Ridge for regularization\n",
    "from sklearn.model_selection import GridSearchCV, train_test_split\n",
    "import matplotlib.pyplot as plt\n",
    "import seaborn as sns\n",
    "from sklearn.ensemble import RandomForestClassifier\n",
    "from sklearn.metrics import mean_absolute_error, mean_squared_error, r2_score\n",
    "import warnings \n",
    "warnings.filterwarnings(\"ignore\")"
   ]
  },
  {
   "cell_type": "code",
   "execution_count": 3,
   "id": "6d8e2852",
   "metadata": {
    "execution": {
     "iopub.execute_input": "2025-03-16T12:13:13.218117Z",
     "iopub.status.busy": "2025-03-16T12:13:13.217574Z",
     "iopub.status.idle": "2025-03-16T12:13:13.314364Z",
     "shell.execute_reply": "2025-03-16T12:13:13.313292Z"
    },
    "papermill": {
     "duration": 0.113169,
     "end_time": "2025-03-16T12:13:13.316488",
     "exception": false,
     "start_time": "2025-03-16T12:13:13.203319",
     "status": "completed"
    },
    "tags": []
   },
   "outputs": [
    {
     "name": "stdout",
     "output_type": "stream",
     "text": [
      "<class 'pandas.core.frame.DataFrame'>\n",
      "RangeIndex: 1460 entries, 0 to 1459\n",
      "Data columns (total 81 columns):\n",
      " #   Column         Non-Null Count  Dtype  \n",
      "---  ------         --------------  -----  \n",
      " 0   Id             1460 non-null   int64  \n",
      " 1   MSSubClass     1460 non-null   int64  \n",
      " 2   MSZoning       1460 non-null   object \n",
      " 3   LotFrontage    1201 non-null   float64\n",
      " 4   LotArea        1460 non-null   int64  \n",
      " 5   Street         1460 non-null   object \n",
      " 6   Alley          91 non-null     object \n",
      " 7   LotShape       1460 non-null   object \n",
      " 8   LandContour    1460 non-null   object \n",
      " 9   Utilities      1460 non-null   object \n",
      " 10  LotConfig      1460 non-null   object \n",
      " 11  LandSlope      1460 non-null   object \n",
      " 12  Neighborhood   1460 non-null   object \n",
      " 13  Condition1     1460 non-null   object \n",
      " 14  Condition2     1460 non-null   object \n",
      " 15  BldgType       1460 non-null   object \n",
      " 16  HouseStyle     1460 non-null   object \n",
      " 17  OverallQual    1460 non-null   int64  \n",
      " 18  OverallCond    1460 non-null   int64  \n",
      " 19  YearBuilt      1460 non-null   int64  \n",
      " 20  YearRemodAdd   1460 non-null   int64  \n",
      " 21  RoofStyle      1460 non-null   object \n",
      " 22  RoofMatl       1460 non-null   object \n",
      " 23  Exterior1st    1460 non-null   object \n",
      " 24  Exterior2nd    1460 non-null   object \n",
      " 25  MasVnrType     588 non-null    object \n",
      " 26  MasVnrArea     1452 non-null   float64\n",
      " 27  ExterQual      1460 non-null   object \n",
      " 28  ExterCond      1460 non-null   object \n",
      " 29  Foundation     1460 non-null   object \n",
      " 30  BsmtQual       1423 non-null   object \n",
      " 31  BsmtCond       1423 non-null   object \n",
      " 32  BsmtExposure   1422 non-null   object \n",
      " 33  BsmtFinType1   1423 non-null   object \n",
      " 34  BsmtFinSF1     1460 non-null   int64  \n",
      " 35  BsmtFinType2   1422 non-null   object \n",
      " 36  BsmtFinSF2     1460 non-null   int64  \n",
      " 37  BsmtUnfSF      1460 non-null   int64  \n",
      " 38  TotalBsmtSF    1460 non-null   int64  \n",
      " 39  Heating        1460 non-null   object \n",
      " 40  HeatingQC      1460 non-null   object \n",
      " 41  CentralAir     1460 non-null   object \n",
      " 42  Electrical     1459 non-null   object \n",
      " 43  1stFlrSF       1460 non-null   int64  \n",
      " 44  2ndFlrSF       1460 non-null   int64  \n",
      " 45  LowQualFinSF   1460 non-null   int64  \n",
      " 46  GrLivArea      1460 non-null   int64  \n",
      " 47  BsmtFullBath   1460 non-null   int64  \n",
      " 48  BsmtHalfBath   1460 non-null   int64  \n",
      " 49  FullBath       1460 non-null   int64  \n",
      " 50  HalfBath       1460 non-null   int64  \n",
      " 51  BedroomAbvGr   1460 non-null   int64  \n",
      " 52  KitchenAbvGr   1460 non-null   int64  \n",
      " 53  KitchenQual    1460 non-null   object \n",
      " 54  TotRmsAbvGrd   1460 non-null   int64  \n",
      " 55  Functional     1460 non-null   object \n",
      " 56  Fireplaces     1460 non-null   int64  \n",
      " 57  FireplaceQu    770 non-null    object \n",
      " 58  GarageType     1379 non-null   object \n",
      " 59  GarageYrBlt    1379 non-null   float64\n",
      " 60  GarageFinish   1379 non-null   object \n",
      " 61  GarageCars     1460 non-null   int64  \n",
      " 62  GarageArea     1460 non-null   int64  \n",
      " 63  GarageQual     1379 non-null   object \n",
      " 64  GarageCond     1379 non-null   object \n",
      " 65  PavedDrive     1460 non-null   object \n",
      " 66  WoodDeckSF     1460 non-null   int64  \n",
      " 67  OpenPorchSF    1460 non-null   int64  \n",
      " 68  EnclosedPorch  1460 non-null   int64  \n",
      " 69  3SsnPorch      1460 non-null   int64  \n",
      " 70  ScreenPorch    1460 non-null   int64  \n",
      " 71  PoolArea       1460 non-null   int64  \n",
      " 72  PoolQC         7 non-null      object \n",
      " 73  Fence          281 non-null    object \n",
      " 74  MiscFeature    54 non-null     object \n",
      " 75  MiscVal        1460 non-null   int64  \n",
      " 76  MoSold         1460 non-null   int64  \n",
      " 77  YrSold         1460 non-null   int64  \n",
      " 78  SaleType       1460 non-null   object \n",
      " 79  SaleCondition  1460 non-null   object \n",
      " 80  SalePrice      1460 non-null   int64  \n",
      "dtypes: float64(3), int64(35), object(43)\n",
      "memory usage: 924.0+ KB\n"
     ]
    }
   ],
   "source": [
    "train =pd.read_csv('/kaggle/input/home-data-for-ml-course/train.csv')\n",
    "test =pd.read_csv('/kaggle/input/home-data-for-ml-course/test.csv')\n",
    "train.info()\n",
    "#Repost"
   ]
  },
  {
   "cell_type": "code",
   "execution_count": 4,
   "id": "ae79eb64",
   "metadata": {
    "execution": {
     "iopub.execute_input": "2025-03-16T12:13:13.344131Z",
     "iopub.status.busy": "2025-03-16T12:13:13.343701Z",
     "iopub.status.idle": "2025-03-16T12:13:13.361564Z",
     "shell.execute_reply": "2025-03-16T12:13:13.360379Z"
    },
    "papermill": {
     "duration": 0.033527,
     "end_time": "2025-03-16T12:13:13.363287",
     "exception": false,
     "start_time": "2025-03-16T12:13:13.329760",
     "status": "completed"
    },
    "tags": []
   },
   "outputs": [
    {
     "name": "stdout",
     "output_type": "stream",
     "text": [
      "<class 'pandas.core.frame.DataFrame'>\n",
      "RangeIndex: 1459 entries, 0 to 1458\n",
      "Data columns (total 80 columns):\n",
      " #   Column         Non-Null Count  Dtype  \n",
      "---  ------         --------------  -----  \n",
      " 0   Id             1459 non-null   int64  \n",
      " 1   MSSubClass     1459 non-null   int64  \n",
      " 2   MSZoning       1455 non-null   object \n",
      " 3   LotFrontage    1232 non-null   float64\n",
      " 4   LotArea        1459 non-null   int64  \n",
      " 5   Street         1459 non-null   object \n",
      " 6   Alley          107 non-null    object \n",
      " 7   LotShape       1459 non-null   object \n",
      " 8   LandContour    1459 non-null   object \n",
      " 9   Utilities      1457 non-null   object \n",
      " 10  LotConfig      1459 non-null   object \n",
      " 11  LandSlope      1459 non-null   object \n",
      " 12  Neighborhood   1459 non-null   object \n",
      " 13  Condition1     1459 non-null   object \n",
      " 14  Condition2     1459 non-null   object \n",
      " 15  BldgType       1459 non-null   object \n",
      " 16  HouseStyle     1459 non-null   object \n",
      " 17  OverallQual    1459 non-null   int64  \n",
      " 18  OverallCond    1459 non-null   int64  \n",
      " 19  YearBuilt      1459 non-null   int64  \n",
      " 20  YearRemodAdd   1459 non-null   int64  \n",
      " 21  RoofStyle      1459 non-null   object \n",
      " 22  RoofMatl       1459 non-null   object \n",
      " 23  Exterior1st    1458 non-null   object \n",
      " 24  Exterior2nd    1458 non-null   object \n",
      " 25  MasVnrType     565 non-null    object \n",
      " 26  MasVnrArea     1444 non-null   float64\n",
      " 27  ExterQual      1459 non-null   object \n",
      " 28  ExterCond      1459 non-null   object \n",
      " 29  Foundation     1459 non-null   object \n",
      " 30  BsmtQual       1415 non-null   object \n",
      " 31  BsmtCond       1414 non-null   object \n",
      " 32  BsmtExposure   1415 non-null   object \n",
      " 33  BsmtFinType1   1417 non-null   object \n",
      " 34  BsmtFinSF1     1458 non-null   float64\n",
      " 35  BsmtFinType2   1417 non-null   object \n",
      " 36  BsmtFinSF2     1458 non-null   float64\n",
      " 37  BsmtUnfSF      1458 non-null   float64\n",
      " 38  TotalBsmtSF    1458 non-null   float64\n",
      " 39  Heating        1459 non-null   object \n",
      " 40  HeatingQC      1459 non-null   object \n",
      " 41  CentralAir     1459 non-null   object \n",
      " 42  Electrical     1459 non-null   object \n",
      " 43  1stFlrSF       1459 non-null   int64  \n",
      " 44  2ndFlrSF       1459 non-null   int64  \n",
      " 45  LowQualFinSF   1459 non-null   int64  \n",
      " 46  GrLivArea      1459 non-null   int64  \n",
      " 47  BsmtFullBath   1457 non-null   float64\n",
      " 48  BsmtHalfBath   1457 non-null   float64\n",
      " 49  FullBath       1459 non-null   int64  \n",
      " 50  HalfBath       1459 non-null   int64  \n",
      " 51  BedroomAbvGr   1459 non-null   int64  \n",
      " 52  KitchenAbvGr   1459 non-null   int64  \n",
      " 53  KitchenQual    1458 non-null   object \n",
      " 54  TotRmsAbvGrd   1459 non-null   int64  \n",
      " 55  Functional     1457 non-null   object \n",
      " 56  Fireplaces     1459 non-null   int64  \n",
      " 57  FireplaceQu    729 non-null    object \n",
      " 58  GarageType     1383 non-null   object \n",
      " 59  GarageYrBlt    1381 non-null   float64\n",
      " 60  GarageFinish   1381 non-null   object \n",
      " 61  GarageCars     1458 non-null   float64\n",
      " 62  GarageArea     1458 non-null   float64\n",
      " 63  GarageQual     1381 non-null   object \n",
      " 64  GarageCond     1381 non-null   object \n",
      " 65  PavedDrive     1459 non-null   object \n",
      " 66  WoodDeckSF     1459 non-null   int64  \n",
      " 67  OpenPorchSF    1459 non-null   int64  \n",
      " 68  EnclosedPorch  1459 non-null   int64  \n",
      " 69  3SsnPorch      1459 non-null   int64  \n",
      " 70  ScreenPorch    1459 non-null   int64  \n",
      " 71  PoolArea       1459 non-null   int64  \n",
      " 72  PoolQC         3 non-null      object \n",
      " 73  Fence          290 non-null    object \n",
      " 74  MiscFeature    51 non-null     object \n",
      " 75  MiscVal        1459 non-null   int64  \n",
      " 76  MoSold         1459 non-null   int64  \n",
      " 77  YrSold         1459 non-null   int64  \n",
      " 78  SaleType       1458 non-null   object \n",
      " 79  SaleCondition  1459 non-null   object \n",
      "dtypes: float64(11), int64(26), object(43)\n",
      "memory usage: 912.0+ KB\n"
     ]
    }
   ],
   "source": [
    "test.info()\n"
   ]
  },
  {
   "cell_type": "code",
   "execution_count": 5,
   "id": "8bd8f9e5",
   "metadata": {
    "execution": {
     "iopub.execute_input": "2025-03-16T12:13:13.391339Z",
     "iopub.status.busy": "2025-03-16T12:13:13.391005Z",
     "iopub.status.idle": "2025-03-16T12:13:13.423445Z",
     "shell.execute_reply": "2025-03-16T12:13:13.422298Z"
    },
    "papermill": {
     "duration": 0.04843,
     "end_time": "2025-03-16T12:13:13.425302",
     "exception": false,
     "start_time": "2025-03-16T12:13:13.376872",
     "status": "completed"
    },
    "tags": []
   },
   "outputs": [
    {
     "data": {
      "text/html": [
       "<div>\n",
       "<style scoped>\n",
       "    .dataframe tbody tr th:only-of-type {\n",
       "        vertical-align: middle;\n",
       "    }\n",
       "\n",
       "    .dataframe tbody tr th {\n",
       "        vertical-align: top;\n",
       "    }\n",
       "\n",
       "    .dataframe thead th {\n",
       "        text-align: right;\n",
       "    }\n",
       "</style>\n",
       "<table border=\"1\" class=\"dataframe\">\n",
       "  <thead>\n",
       "    <tr style=\"text-align: right;\">\n",
       "      <th></th>\n",
       "      <th>Id</th>\n",
       "      <th>MSSubClass</th>\n",
       "      <th>MSZoning</th>\n",
       "      <th>LotFrontage</th>\n",
       "      <th>LotArea</th>\n",
       "      <th>Street</th>\n",
       "      <th>Alley</th>\n",
       "      <th>LotShape</th>\n",
       "      <th>LandContour</th>\n",
       "      <th>Utilities</th>\n",
       "      <th>...</th>\n",
       "      <th>PoolArea</th>\n",
       "      <th>PoolQC</th>\n",
       "      <th>Fence</th>\n",
       "      <th>MiscFeature</th>\n",
       "      <th>MiscVal</th>\n",
       "      <th>MoSold</th>\n",
       "      <th>YrSold</th>\n",
       "      <th>SaleType</th>\n",
       "      <th>SaleCondition</th>\n",
       "      <th>SalePrice</th>\n",
       "    </tr>\n",
       "  </thead>\n",
       "  <tbody>\n",
       "    <tr>\n",
       "      <th>0</th>\n",
       "      <td>1</td>\n",
       "      <td>60</td>\n",
       "      <td>RL</td>\n",
       "      <td>65.0</td>\n",
       "      <td>8450</td>\n",
       "      <td>Pave</td>\n",
       "      <td>NaN</td>\n",
       "      <td>Reg</td>\n",
       "      <td>Lvl</td>\n",
       "      <td>AllPub</td>\n",
       "      <td>...</td>\n",
       "      <td>0</td>\n",
       "      <td>NaN</td>\n",
       "      <td>NaN</td>\n",
       "      <td>NaN</td>\n",
       "      <td>0</td>\n",
       "      <td>2</td>\n",
       "      <td>2008</td>\n",
       "      <td>WD</td>\n",
       "      <td>Normal</td>\n",
       "      <td>208500</td>\n",
       "    </tr>\n",
       "    <tr>\n",
       "      <th>1</th>\n",
       "      <td>2</td>\n",
       "      <td>20</td>\n",
       "      <td>RL</td>\n",
       "      <td>80.0</td>\n",
       "      <td>9600</td>\n",
       "      <td>Pave</td>\n",
       "      <td>NaN</td>\n",
       "      <td>Reg</td>\n",
       "      <td>Lvl</td>\n",
       "      <td>AllPub</td>\n",
       "      <td>...</td>\n",
       "      <td>0</td>\n",
       "      <td>NaN</td>\n",
       "      <td>NaN</td>\n",
       "      <td>NaN</td>\n",
       "      <td>0</td>\n",
       "      <td>5</td>\n",
       "      <td>2007</td>\n",
       "      <td>WD</td>\n",
       "      <td>Normal</td>\n",
       "      <td>181500</td>\n",
       "    </tr>\n",
       "    <tr>\n",
       "      <th>2</th>\n",
       "      <td>3</td>\n",
       "      <td>60</td>\n",
       "      <td>RL</td>\n",
       "      <td>68.0</td>\n",
       "      <td>11250</td>\n",
       "      <td>Pave</td>\n",
       "      <td>NaN</td>\n",
       "      <td>IR1</td>\n",
       "      <td>Lvl</td>\n",
       "      <td>AllPub</td>\n",
       "      <td>...</td>\n",
       "      <td>0</td>\n",
       "      <td>NaN</td>\n",
       "      <td>NaN</td>\n",
       "      <td>NaN</td>\n",
       "      <td>0</td>\n",
       "      <td>9</td>\n",
       "      <td>2008</td>\n",
       "      <td>WD</td>\n",
       "      <td>Normal</td>\n",
       "      <td>223500</td>\n",
       "    </tr>\n",
       "    <tr>\n",
       "      <th>3</th>\n",
       "      <td>4</td>\n",
       "      <td>70</td>\n",
       "      <td>RL</td>\n",
       "      <td>60.0</td>\n",
       "      <td>9550</td>\n",
       "      <td>Pave</td>\n",
       "      <td>NaN</td>\n",
       "      <td>IR1</td>\n",
       "      <td>Lvl</td>\n",
       "      <td>AllPub</td>\n",
       "      <td>...</td>\n",
       "      <td>0</td>\n",
       "      <td>NaN</td>\n",
       "      <td>NaN</td>\n",
       "      <td>NaN</td>\n",
       "      <td>0</td>\n",
       "      <td>2</td>\n",
       "      <td>2006</td>\n",
       "      <td>WD</td>\n",
       "      <td>Abnorml</td>\n",
       "      <td>140000</td>\n",
       "    </tr>\n",
       "    <tr>\n",
       "      <th>4</th>\n",
       "      <td>5</td>\n",
       "      <td>60</td>\n",
       "      <td>RL</td>\n",
       "      <td>84.0</td>\n",
       "      <td>14260</td>\n",
       "      <td>Pave</td>\n",
       "      <td>NaN</td>\n",
       "      <td>IR1</td>\n",
       "      <td>Lvl</td>\n",
       "      <td>AllPub</td>\n",
       "      <td>...</td>\n",
       "      <td>0</td>\n",
       "      <td>NaN</td>\n",
       "      <td>NaN</td>\n",
       "      <td>NaN</td>\n",
       "      <td>0</td>\n",
       "      <td>12</td>\n",
       "      <td>2008</td>\n",
       "      <td>WD</td>\n",
       "      <td>Normal</td>\n",
       "      <td>250000</td>\n",
       "    </tr>\n",
       "  </tbody>\n",
       "</table>\n",
       "<p>5 rows × 81 columns</p>\n",
       "</div>"
      ],
      "text/plain": [
       "   Id  MSSubClass MSZoning  LotFrontage  LotArea Street Alley LotShape  \\\n",
       "0   1          60       RL         65.0     8450   Pave   NaN      Reg   \n",
       "1   2          20       RL         80.0     9600   Pave   NaN      Reg   \n",
       "2   3          60       RL         68.0    11250   Pave   NaN      IR1   \n",
       "3   4          70       RL         60.0     9550   Pave   NaN      IR1   \n",
       "4   5          60       RL         84.0    14260   Pave   NaN      IR1   \n",
       "\n",
       "  LandContour Utilities  ... PoolArea PoolQC Fence MiscFeature MiscVal MoSold  \\\n",
       "0         Lvl    AllPub  ...        0    NaN   NaN         NaN       0      2   \n",
       "1         Lvl    AllPub  ...        0    NaN   NaN         NaN       0      5   \n",
       "2         Lvl    AllPub  ...        0    NaN   NaN         NaN       0      9   \n",
       "3         Lvl    AllPub  ...        0    NaN   NaN         NaN       0      2   \n",
       "4         Lvl    AllPub  ...        0    NaN   NaN         NaN       0     12   \n",
       "\n",
       "  YrSold  SaleType  SaleCondition  SalePrice  \n",
       "0   2008        WD         Normal     208500  \n",
       "1   2007        WD         Normal     181500  \n",
       "2   2008        WD         Normal     223500  \n",
       "3   2006        WD        Abnorml     140000  \n",
       "4   2008        WD         Normal     250000  \n",
       "\n",
       "[5 rows x 81 columns]"
      ]
     },
     "execution_count": 5,
     "metadata": {},
     "output_type": "execute_result"
    }
   ],
   "source": [
    "train.head()\n"
   ]
  },
  {
   "cell_type": "code",
   "execution_count": 6,
   "id": "38afbb3b",
   "metadata": {
    "execution": {
     "iopub.execute_input": "2025-03-16T12:13:13.454944Z",
     "iopub.status.busy": "2025-03-16T12:13:13.454565Z",
     "iopub.status.idle": "2025-03-16T12:13:13.464889Z",
     "shell.execute_reply": "2025-03-16T12:13:13.463714Z"
    },
    "papermill": {
     "duration": 0.026742,
     "end_time": "2025-03-16T12:13:13.466418",
     "exception": false,
     "start_time": "2025-03-16T12:13:13.439676",
     "status": "completed"
    },
    "tags": []
   },
   "outputs": [
    {
     "name": "stdout",
     "output_type": "stream",
     "text": [
      "LotFrontage      259\n",
      "Alley           1369\n",
      "MasVnrType       872\n",
      "MasVnrArea         8\n",
      "BsmtQual          37\n",
      "BsmtCond          37\n",
      "BsmtExposure      38\n",
      "BsmtFinType1      37\n",
      "BsmtFinType2      38\n",
      "Electrical         1\n",
      "FireplaceQu      690\n",
      "GarageType        81\n",
      "GarageYrBlt       81\n",
      "GarageFinish      81\n",
      "GarageQual        81\n",
      "GarageCond        81\n",
      "PoolQC          1453\n",
      "Fence           1179\n",
      "MiscFeature     1406\n",
      "dtype: int64\n"
     ]
    }
   ],
   "source": [
    "isnull=train.isnull().sum()\n",
    "print(isnull[isnull > 0])"
   ]
  },
  {
   "cell_type": "code",
   "execution_count": 7,
   "id": "27e831a6",
   "metadata": {
    "execution": {
     "iopub.execute_input": "2025-03-16T12:13:13.495689Z",
     "iopub.status.busy": "2025-03-16T12:13:13.495339Z",
     "iopub.status.idle": "2025-03-16T12:13:13.506128Z",
     "shell.execute_reply": "2025-03-16T12:13:13.504825Z"
    },
    "papermill": {
     "duration": 0.027521,
     "end_time": "2025-03-16T12:13:13.507789",
     "exception": false,
     "start_time": "2025-03-16T12:13:13.480268",
     "status": "completed"
    },
    "tags": []
   },
   "outputs": [
    {
     "name": "stdout",
     "output_type": "stream",
     "text": [
      "MSZoning           4\n",
      "LotFrontage      227\n",
      "Alley           1352\n",
      "Utilities          2\n",
      "Exterior1st        1\n",
      "Exterior2nd        1\n",
      "MasVnrType       894\n",
      "MasVnrArea        15\n",
      "BsmtQual          44\n",
      "BsmtCond          45\n",
      "BsmtExposure      44\n",
      "BsmtFinType1      42\n",
      "BsmtFinSF1         1\n",
      "BsmtFinType2      42\n",
      "BsmtFinSF2         1\n",
      "BsmtUnfSF          1\n",
      "TotalBsmtSF        1\n",
      "BsmtFullBath       2\n",
      "BsmtHalfBath       2\n",
      "KitchenQual        1\n",
      "Functional         2\n",
      "FireplaceQu      730\n",
      "GarageType        76\n",
      "GarageYrBlt       78\n",
      "GarageFinish      78\n",
      "GarageCars         1\n",
      "GarageArea         1\n",
      "GarageQual        78\n",
      "GarageCond        78\n",
      "PoolQC          1456\n",
      "Fence           1169\n",
      "MiscFeature     1408\n",
      "SaleType           1\n",
      "dtype: int64\n"
     ]
    }
   ],
   "source": [
    "isnullt=test.isnull().sum()\n",
    "print(isnullt[isnullt > 0])"
   ]
  },
  {
   "cell_type": "code",
   "execution_count": 8,
   "id": "1f02719a",
   "metadata": {
    "execution": {
     "iopub.execute_input": "2025-03-16T12:13:13.536623Z",
     "iopub.status.busy": "2025-03-16T12:13:13.536237Z",
     "iopub.status.idle": "2025-03-16T12:13:13.544845Z",
     "shell.execute_reply": "2025-03-16T12:13:13.543869Z"
    },
    "papermill": {
     "duration": 0.024626,
     "end_time": "2025-03-16T12:13:13.546371",
     "exception": false,
     "start_time": "2025-03-16T12:13:13.521745",
     "status": "completed"
    },
    "tags": []
   },
   "outputs": [
    {
     "data": {
      "text/plain": [
       "array([ 65.,  80.,  68.,  60.,  84.,  85.,  75.,  nan,  51.,  50.,  70.,\n",
       "        91.,  72.,  66., 101.,  57.,  44., 110.,  98.,  47., 108., 112.,\n",
       "        74., 115.,  61.,  48.,  33.,  52., 100.,  24.,  89.,  63.,  76.,\n",
       "        81.,  95.,  69.,  21.,  32.,  78., 121., 122.,  40., 105.,  73.,\n",
       "        77.,  64.,  94.,  34.,  90.,  55.,  88.,  82.,  71., 120., 107.,\n",
       "        92., 134.,  62.,  86., 141.,  97.,  54.,  41.,  79., 174.,  99.,\n",
       "        67.,  83.,  43., 103.,  93.,  30., 129., 140.,  35.,  37., 118.,\n",
       "        87., 116., 150., 111.,  49.,  96.,  59.,  36.,  56., 102.,  58.,\n",
       "        38., 109., 130.,  53., 137.,  45., 106., 104.,  42.,  39., 144.,\n",
       "       114., 128., 149., 313., 168., 182., 138., 160., 152., 124., 153.,\n",
       "        46.])"
      ]
     },
     "execution_count": 8,
     "metadata": {},
     "output_type": "execute_result"
    }
   ],
   "source": [
    "train[\"LotFrontage\"].unique()\n"
   ]
  },
  {
   "cell_type": "code",
   "execution_count": 9,
   "id": "22a02e4b",
   "metadata": {
    "execution": {
     "iopub.execute_input": "2025-03-16T12:13:13.575451Z",
     "iopub.status.busy": "2025-03-16T12:13:13.575096Z",
     "iopub.status.idle": "2025-03-16T12:13:13.581410Z",
     "shell.execute_reply": "2025-03-16T12:13:13.580312Z"
    },
    "papermill": {
     "duration": 0.022636,
     "end_time": "2025-03-16T12:13:13.583115",
     "exception": false,
     "start_time": "2025-03-16T12:13:13.560479",
     "status": "completed"
    },
    "tags": []
   },
   "outputs": [],
   "source": [
    "train[\"LotFrontage\"].fillna(train[\"LotFrontage\"].median(), inplace=True)\n",
    "test[\"LotFrontage\"].fillna(test[\"LotFrontage\"].median(), inplace=True)"
   ]
  },
  {
   "cell_type": "code",
   "execution_count": 10,
   "id": "db1bc7b7",
   "metadata": {
    "execution": {
     "iopub.execute_input": "2025-03-16T12:13:13.612346Z",
     "iopub.status.busy": "2025-03-16T12:13:13.611935Z",
     "iopub.status.idle": "2025-03-16T12:13:13.618111Z",
     "shell.execute_reply": "2025-03-16T12:13:13.617113Z"
    },
    "papermill": {
     "duration": 0.022364,
     "end_time": "2025-03-16T12:13:13.619606",
     "exception": false,
     "start_time": "2025-03-16T12:13:13.597242",
     "status": "completed"
    },
    "tags": []
   },
   "outputs": [
    {
     "data": {
      "text/plain": [
       "array([nan, 'Grvl', 'Pave'], dtype=object)"
      ]
     },
     "execution_count": 10,
     "metadata": {},
     "output_type": "execute_result"
    }
   ],
   "source": [
    "train[\"Alley\"].unique()\n"
   ]
  },
  {
   "cell_type": "code",
   "execution_count": 11,
   "id": "2656f43c",
   "metadata": {
    "execution": {
     "iopub.execute_input": "2025-03-16T12:13:13.649595Z",
     "iopub.status.busy": "2025-03-16T12:13:13.649149Z",
     "iopub.status.idle": "2025-03-16T12:13:13.655543Z",
     "shell.execute_reply": "2025-03-16T12:13:13.654469Z"
    },
    "papermill": {
     "duration": 0.023161,
     "end_time": "2025-03-16T12:13:13.657347",
     "exception": false,
     "start_time": "2025-03-16T12:13:13.634186",
     "status": "completed"
    },
    "tags": []
   },
   "outputs": [],
   "source": [
    "train[\"Alley\"].fillna(\"no_accses\", inplace=True)\n",
    "test[\"Alley\"].fillna(\"no_accses\", inplace=True)"
   ]
  },
  {
   "cell_type": "code",
   "execution_count": 12,
   "id": "2a30a6fe",
   "metadata": {
    "execution": {
     "iopub.execute_input": "2025-03-16T12:13:13.686707Z",
     "iopub.status.busy": "2025-03-16T12:13:13.686251Z",
     "iopub.status.idle": "2025-03-16T12:13:13.705113Z",
     "shell.execute_reply": "2025-03-16T12:13:13.704030Z"
    },
    "papermill": {
     "duration": 0.035407,
     "end_time": "2025-03-16T12:13:13.706860",
     "exception": false,
     "start_time": "2025-03-16T12:13:13.671453",
     "status": "completed"
    },
    "tags": []
   },
   "outputs": [
    {
     "data": {
      "text/html": [
       "<div>\n",
       "<style scoped>\n",
       "    .dataframe tbody tr th:only-of-type {\n",
       "        vertical-align: middle;\n",
       "    }\n",
       "\n",
       "    .dataframe tbody tr th {\n",
       "        vertical-align: top;\n",
       "    }\n",
       "\n",
       "    .dataframe thead th {\n",
       "        text-align: right;\n",
       "    }\n",
       "</style>\n",
       "<table border=\"1\" class=\"dataframe\">\n",
       "  <thead>\n",
       "    <tr style=\"text-align: right;\">\n",
       "      <th></th>\n",
       "      <th>Id</th>\n",
       "      <th>MSSubClass</th>\n",
       "      <th>MSZoning</th>\n",
       "      <th>LotFrontage</th>\n",
       "      <th>LotArea</th>\n",
       "      <th>Street</th>\n",
       "      <th>Alley</th>\n",
       "      <th>LotShape</th>\n",
       "      <th>LandContour</th>\n",
       "      <th>Utilities</th>\n",
       "      <th>...</th>\n",
       "      <th>PoolArea</th>\n",
       "      <th>PoolQC</th>\n",
       "      <th>Fence</th>\n",
       "      <th>MiscFeature</th>\n",
       "      <th>MiscVal</th>\n",
       "      <th>MoSold</th>\n",
       "      <th>YrSold</th>\n",
       "      <th>SaleType</th>\n",
       "      <th>SaleCondition</th>\n",
       "      <th>SalePrice</th>\n",
       "    </tr>\n",
       "  </thead>\n",
       "  <tbody>\n",
       "    <tr>\n",
       "      <th>0</th>\n",
       "      <td>1</td>\n",
       "      <td>60</td>\n",
       "      <td>RL</td>\n",
       "      <td>65.0</td>\n",
       "      <td>8450</td>\n",
       "      <td>Pave</td>\n",
       "      <td>no_accses</td>\n",
       "      <td>Reg</td>\n",
       "      <td>Lvl</td>\n",
       "      <td>AllPub</td>\n",
       "      <td>...</td>\n",
       "      <td>0</td>\n",
       "      <td>NaN</td>\n",
       "      <td>NaN</td>\n",
       "      <td>NaN</td>\n",
       "      <td>0</td>\n",
       "      <td>2</td>\n",
       "      <td>2008</td>\n",
       "      <td>WD</td>\n",
       "      <td>Normal</td>\n",
       "      <td>208500</td>\n",
       "    </tr>\n",
       "    <tr>\n",
       "      <th>1</th>\n",
       "      <td>2</td>\n",
       "      <td>20</td>\n",
       "      <td>RL</td>\n",
       "      <td>80.0</td>\n",
       "      <td>9600</td>\n",
       "      <td>Pave</td>\n",
       "      <td>no_accses</td>\n",
       "      <td>Reg</td>\n",
       "      <td>Lvl</td>\n",
       "      <td>AllPub</td>\n",
       "      <td>...</td>\n",
       "      <td>0</td>\n",
       "      <td>NaN</td>\n",
       "      <td>NaN</td>\n",
       "      <td>NaN</td>\n",
       "      <td>0</td>\n",
       "      <td>5</td>\n",
       "      <td>2007</td>\n",
       "      <td>WD</td>\n",
       "      <td>Normal</td>\n",
       "      <td>181500</td>\n",
       "    </tr>\n",
       "    <tr>\n",
       "      <th>2</th>\n",
       "      <td>3</td>\n",
       "      <td>60</td>\n",
       "      <td>RL</td>\n",
       "      <td>68.0</td>\n",
       "      <td>11250</td>\n",
       "      <td>Pave</td>\n",
       "      <td>no_accses</td>\n",
       "      <td>IR1</td>\n",
       "      <td>Lvl</td>\n",
       "      <td>AllPub</td>\n",
       "      <td>...</td>\n",
       "      <td>0</td>\n",
       "      <td>NaN</td>\n",
       "      <td>NaN</td>\n",
       "      <td>NaN</td>\n",
       "      <td>0</td>\n",
       "      <td>9</td>\n",
       "      <td>2008</td>\n",
       "      <td>WD</td>\n",
       "      <td>Normal</td>\n",
       "      <td>223500</td>\n",
       "    </tr>\n",
       "    <tr>\n",
       "      <th>3</th>\n",
       "      <td>4</td>\n",
       "      <td>70</td>\n",
       "      <td>RL</td>\n",
       "      <td>60.0</td>\n",
       "      <td>9550</td>\n",
       "      <td>Pave</td>\n",
       "      <td>no_accses</td>\n",
       "      <td>IR1</td>\n",
       "      <td>Lvl</td>\n",
       "      <td>AllPub</td>\n",
       "      <td>...</td>\n",
       "      <td>0</td>\n",
       "      <td>NaN</td>\n",
       "      <td>NaN</td>\n",
       "      <td>NaN</td>\n",
       "      <td>0</td>\n",
       "      <td>2</td>\n",
       "      <td>2006</td>\n",
       "      <td>WD</td>\n",
       "      <td>Abnorml</td>\n",
       "      <td>140000</td>\n",
       "    </tr>\n",
       "    <tr>\n",
       "      <th>4</th>\n",
       "      <td>5</td>\n",
       "      <td>60</td>\n",
       "      <td>RL</td>\n",
       "      <td>84.0</td>\n",
       "      <td>14260</td>\n",
       "      <td>Pave</td>\n",
       "      <td>no_accses</td>\n",
       "      <td>IR1</td>\n",
       "      <td>Lvl</td>\n",
       "      <td>AllPub</td>\n",
       "      <td>...</td>\n",
       "      <td>0</td>\n",
       "      <td>NaN</td>\n",
       "      <td>NaN</td>\n",
       "      <td>NaN</td>\n",
       "      <td>0</td>\n",
       "      <td>12</td>\n",
       "      <td>2008</td>\n",
       "      <td>WD</td>\n",
       "      <td>Normal</td>\n",
       "      <td>250000</td>\n",
       "    </tr>\n",
       "  </tbody>\n",
       "</table>\n",
       "<p>5 rows × 81 columns</p>\n",
       "</div>"
      ],
      "text/plain": [
       "   Id  MSSubClass MSZoning  LotFrontage  LotArea Street      Alley LotShape  \\\n",
       "0   1          60       RL         65.0     8450   Pave  no_accses      Reg   \n",
       "1   2          20       RL         80.0     9600   Pave  no_accses      Reg   \n",
       "2   3          60       RL         68.0    11250   Pave  no_accses      IR1   \n",
       "3   4          70       RL         60.0     9550   Pave  no_accses      IR1   \n",
       "4   5          60       RL         84.0    14260   Pave  no_accses      IR1   \n",
       "\n",
       "  LandContour Utilities  ... PoolArea PoolQC Fence MiscFeature MiscVal MoSold  \\\n",
       "0         Lvl    AllPub  ...        0    NaN   NaN         NaN       0      2   \n",
       "1         Lvl    AllPub  ...        0    NaN   NaN         NaN       0      5   \n",
       "2         Lvl    AllPub  ...        0    NaN   NaN         NaN       0      9   \n",
       "3         Lvl    AllPub  ...        0    NaN   NaN         NaN       0      2   \n",
       "4         Lvl    AllPub  ...        0    NaN   NaN         NaN       0     12   \n",
       "\n",
       "  YrSold  SaleType  SaleCondition  SalePrice  \n",
       "0   2008        WD         Normal     208500  \n",
       "1   2007        WD         Normal     181500  \n",
       "2   2008        WD         Normal     223500  \n",
       "3   2006        WD        Abnorml     140000  \n",
       "4   2008        WD         Normal     250000  \n",
       "\n",
       "[5 rows x 81 columns]"
      ]
     },
     "execution_count": 12,
     "metadata": {},
     "output_type": "execute_result"
    }
   ],
   "source": [
    "train.head()"
   ]
  },
  {
   "cell_type": "code",
   "execution_count": 13,
   "id": "7f86c517",
   "metadata": {
    "execution": {
     "iopub.execute_input": "2025-03-16T12:13:13.736990Z",
     "iopub.status.busy": "2025-03-16T12:13:13.736569Z",
     "iopub.status.idle": "2025-03-16T12:13:13.742788Z",
     "shell.execute_reply": "2025-03-16T12:13:13.741691Z"
    },
    "papermill": {
     "duration": 0.023034,
     "end_time": "2025-03-16T12:13:13.744397",
     "exception": false,
     "start_time": "2025-03-16T12:13:13.721363",
     "status": "completed"
    },
    "tags": []
   },
   "outputs": [
    {
     "data": {
      "text/plain": [
       "array(['BrkFace', nan, 'Stone', 'BrkCmn'], dtype=object)"
      ]
     },
     "execution_count": 13,
     "metadata": {},
     "output_type": "execute_result"
    }
   ],
   "source": [
    "train[\"MasVnrType\"].unique()\n"
   ]
  },
  {
   "cell_type": "code",
   "execution_count": 14,
   "id": "98b2d25b",
   "metadata": {
    "execution": {
     "iopub.execute_input": "2025-03-16T12:13:13.775251Z",
     "iopub.status.busy": "2025-03-16T12:13:13.774908Z",
     "iopub.status.idle": "2025-03-16T12:13:13.781789Z",
     "shell.execute_reply": "2025-03-16T12:13:13.780828Z"
    },
    "papermill": {
     "duration": 0.024148,
     "end_time": "2025-03-16T12:13:13.783607",
     "exception": false,
     "start_time": "2025-03-16T12:13:13.759459",
     "status": "completed"
    },
    "tags": []
   },
   "outputs": [],
   "source": [
    "train[\"MasVnrType\"].fillna(\"no\", inplace=True)\n",
    "test[\"MasVnrType\"].fillna(\"no\", inplace=True)"
   ]
  },
  {
   "cell_type": "code",
   "execution_count": 15,
   "id": "8677c19d",
   "metadata": {
    "execution": {
     "iopub.execute_input": "2025-03-16T12:13:13.813554Z",
     "iopub.status.busy": "2025-03-16T12:13:13.813201Z",
     "iopub.status.idle": "2025-03-16T12:13:13.819284Z",
     "shell.execute_reply": "2025-03-16T12:13:13.818337Z"
    },
    "papermill": {
     "duration": 0.022981,
     "end_time": "2025-03-16T12:13:13.820972",
     "exception": false,
     "start_time": "2025-03-16T12:13:13.797991",
     "status": "completed"
    },
    "tags": []
   },
   "outputs": [],
   "source": [
    "train[\"MasVnrArea\"].fillna(train[\"MasVnrArea\"].mean(), inplace=True)\n",
    "test[\"MasVnrArea\"].fillna(test[\"MasVnrArea\"].mean(), inplace=True)"
   ]
  },
  {
   "cell_type": "code",
   "execution_count": 16,
   "id": "ae05eb4e",
   "metadata": {
    "execution": {
     "iopub.execute_input": "2025-03-16T12:13:13.850765Z",
     "iopub.status.busy": "2025-03-16T12:13:13.850421Z",
     "iopub.status.idle": "2025-03-16T12:13:13.856297Z",
     "shell.execute_reply": "2025-03-16T12:13:13.855245Z"
    },
    "papermill": {
     "duration": 0.022482,
     "end_time": "2025-03-16T12:13:13.857754",
     "exception": false,
     "start_time": "2025-03-16T12:13:13.835272",
     "status": "completed"
    },
    "tags": []
   },
   "outputs": [
    {
     "data": {
      "text/plain": [
       "array(['Gd', 'TA', 'Ex', nan, 'Fa'], dtype=object)"
      ]
     },
     "execution_count": 16,
     "metadata": {},
     "output_type": "execute_result"
    }
   ],
   "source": [
    "train[\"BsmtQual\"].unique()\n"
   ]
  },
  {
   "cell_type": "code",
   "execution_count": 17,
   "id": "23acb85c",
   "metadata": {
    "execution": {
     "iopub.execute_input": "2025-03-16T12:13:13.889061Z",
     "iopub.status.busy": "2025-03-16T12:13:13.888630Z",
     "iopub.status.idle": "2025-03-16T12:13:13.894975Z",
     "shell.execute_reply": "2025-03-16T12:13:13.893984Z"
    },
    "papermill": {
     "duration": 0.024189,
     "end_time": "2025-03-16T12:13:13.896589",
     "exception": false,
     "start_time": "2025-03-16T12:13:13.872400",
     "status": "completed"
    },
    "tags": []
   },
   "outputs": [],
   "source": [
    "train[\"BsmtQual\"].fillna(\"no\", inplace=True)\n",
    "test[\"BsmtQual\"].fillna(\"no\", inplace=True)"
   ]
  },
  {
   "cell_type": "code",
   "execution_count": 18,
   "id": "581f14bd",
   "metadata": {
    "execution": {
     "iopub.execute_input": "2025-03-16T12:13:13.926733Z",
     "iopub.status.busy": "2025-03-16T12:13:13.926396Z",
     "iopub.status.idle": "2025-03-16T12:13:13.932664Z",
     "shell.execute_reply": "2025-03-16T12:13:13.931684Z"
    },
    "papermill": {
     "duration": 0.023241,
     "end_time": "2025-03-16T12:13:13.934267",
     "exception": false,
     "start_time": "2025-03-16T12:13:13.911026",
     "status": "completed"
    },
    "tags": []
   },
   "outputs": [
    {
     "data": {
      "text/plain": [
       "array(['TA', 'Gd', nan, 'Fa', 'Po'], dtype=object)"
      ]
     },
     "execution_count": 18,
     "metadata": {},
     "output_type": "execute_result"
    }
   ],
   "source": [
    "train[\"BsmtCond\"].unique()\n"
   ]
  },
  {
   "cell_type": "code",
   "execution_count": 19,
   "id": "d0afa354",
   "metadata": {
    "execution": {
     "iopub.execute_input": "2025-03-16T12:13:13.964812Z",
     "iopub.status.busy": "2025-03-16T12:13:13.964308Z",
     "iopub.status.idle": "2025-03-16T12:13:13.970809Z",
     "shell.execute_reply": "2025-03-16T12:13:13.969896Z"
    },
    "papermill": {
     "duration": 0.023743,
     "end_time": "2025-03-16T12:13:13.972695",
     "exception": false,
     "start_time": "2025-03-16T12:13:13.948952",
     "status": "completed"
    },
    "tags": []
   },
   "outputs": [],
   "source": [
    "train[\"BsmtCond\"].fillna(\"no\", inplace=True)\n",
    "test[\"BsmtCond\"].fillna(\"no\", inplace=True)"
   ]
  },
  {
   "cell_type": "code",
   "execution_count": 20,
   "id": "be735159",
   "metadata": {
    "execution": {
     "iopub.execute_input": "2025-03-16T12:13:14.004204Z",
     "iopub.status.busy": "2025-03-16T12:13:14.003813Z",
     "iopub.status.idle": "2025-03-16T12:13:14.010055Z",
     "shell.execute_reply": "2025-03-16T12:13:14.009050Z"
    },
    "papermill": {
     "duration": 0.023824,
     "end_time": "2025-03-16T12:13:14.011735",
     "exception": false,
     "start_time": "2025-03-16T12:13:13.987911",
     "status": "completed"
    },
    "tags": []
   },
   "outputs": [
    {
     "data": {
      "text/plain": [
       "array(['No', 'Gd', 'Mn', 'Av', nan], dtype=object)"
      ]
     },
     "execution_count": 20,
     "metadata": {},
     "output_type": "execute_result"
    }
   ],
   "source": [
    "train[\"BsmtExposure\"].unique()\n"
   ]
  },
  {
   "cell_type": "code",
   "execution_count": 21,
   "id": "e3c19e86",
   "metadata": {
    "execution": {
     "iopub.execute_input": "2025-03-16T12:13:14.042686Z",
     "iopub.status.busy": "2025-03-16T12:13:14.042339Z",
     "iopub.status.idle": "2025-03-16T12:13:14.048470Z",
     "shell.execute_reply": "2025-03-16T12:13:14.047338Z"
    },
    "papermill": {
     "duration": 0.023689,
     "end_time": "2025-03-16T12:13:14.050243",
     "exception": false,
     "start_time": "2025-03-16T12:13:14.026554",
     "status": "completed"
    },
    "tags": []
   },
   "outputs": [],
   "source": [
    "train[\"BsmtExposure\"].fillna(\"not\", inplace=True)\n",
    "test[\"BsmtExposure\"].fillna(\"not\", inplace=True)"
   ]
  },
  {
   "cell_type": "code",
   "execution_count": 22,
   "id": "7b67c1c2",
   "metadata": {
    "execution": {
     "iopub.execute_input": "2025-03-16T12:13:14.081996Z",
     "iopub.status.busy": "2025-03-16T12:13:14.081610Z",
     "iopub.status.idle": "2025-03-16T12:13:14.087912Z",
     "shell.execute_reply": "2025-03-16T12:13:14.086855Z"
    },
    "papermill": {
     "duration": 0.02425,
     "end_time": "2025-03-16T12:13:14.089544",
     "exception": false,
     "start_time": "2025-03-16T12:13:14.065294",
     "status": "completed"
    },
    "tags": []
   },
   "outputs": [
    {
     "data": {
      "text/plain": [
       "array(['GLQ', 'ALQ', 'Unf', 'Rec', 'BLQ', nan, 'LwQ'], dtype=object)"
      ]
     },
     "execution_count": 22,
     "metadata": {},
     "output_type": "execute_result"
    }
   ],
   "source": [
    "train[\"BsmtFinType1\"].unique()\n"
   ]
  },
  {
   "cell_type": "code",
   "execution_count": 23,
   "id": "1e1ef1c8",
   "metadata": {
    "execution": {
     "iopub.execute_input": "2025-03-16T12:13:14.119956Z",
     "iopub.status.busy": "2025-03-16T12:13:14.119470Z",
     "iopub.status.idle": "2025-03-16T12:13:14.125363Z",
     "shell.execute_reply": "2025-03-16T12:13:14.124274Z"
    },
    "papermill": {
     "duration": 0.022979,
     "end_time": "2025-03-16T12:13:14.127152",
     "exception": false,
     "start_time": "2025-03-16T12:13:14.104173",
     "status": "completed"
    },
    "tags": []
   },
   "outputs": [],
   "source": [
    "train[\"BsmtFinType1\"].fillna(\"nobs\",inplace=True)\n",
    "test[\"BsmtFinType1\"].fillna(\"nobs\",inplace=True)"
   ]
  },
  {
   "cell_type": "code",
   "execution_count": 24,
   "id": "45faed48",
   "metadata": {
    "execution": {
     "iopub.execute_input": "2025-03-16T12:13:14.158318Z",
     "iopub.status.busy": "2025-03-16T12:13:14.157957Z",
     "iopub.status.idle": "2025-03-16T12:13:14.163913Z",
     "shell.execute_reply": "2025-03-16T12:13:14.162874Z"
    },
    "papermill": {
     "duration": 0.022924,
     "end_time": "2025-03-16T12:13:14.165526",
     "exception": false,
     "start_time": "2025-03-16T12:13:14.142602",
     "status": "completed"
    },
    "tags": []
   },
   "outputs": [
    {
     "data": {
      "text/plain": [
       "array(['Unf', 'BLQ', nan, 'ALQ', 'Rec', 'LwQ', 'GLQ'], dtype=object)"
      ]
     },
     "execution_count": 24,
     "metadata": {},
     "output_type": "execute_result"
    }
   ],
   "source": [
    "train[\"BsmtFinType2\"].unique()\n"
   ]
  },
  {
   "cell_type": "code",
   "execution_count": 25,
   "id": "90f6a487",
   "metadata": {
    "execution": {
     "iopub.execute_input": "2025-03-16T12:13:14.199648Z",
     "iopub.status.busy": "2025-03-16T12:13:14.199288Z",
     "iopub.status.idle": "2025-03-16T12:13:14.205130Z",
     "shell.execute_reply": "2025-03-16T12:13:14.204126Z"
    },
    "papermill": {
     "duration": 0.023065,
     "end_time": "2025-03-16T12:13:14.206670",
     "exception": false,
     "start_time": "2025-03-16T12:13:14.183605",
     "status": "completed"
    },
    "tags": []
   },
   "outputs": [],
   "source": [
    "train[\"BsmtFinType2\"].fillna(\"no\",inplace=True)\n",
    "test[\"BsmtFinType2\"].fillna(\"no\",inplace=True)"
   ]
  },
  {
   "cell_type": "code",
   "execution_count": 26,
   "id": "a469b53f",
   "metadata": {
    "execution": {
     "iopub.execute_input": "2025-03-16T12:13:14.238310Z",
     "iopub.status.busy": "2025-03-16T12:13:14.237960Z",
     "iopub.status.idle": "2025-03-16T12:13:14.243704Z",
     "shell.execute_reply": "2025-03-16T12:13:14.242876Z"
    },
    "papermill": {
     "duration": 0.023135,
     "end_time": "2025-03-16T12:13:14.245334",
     "exception": false,
     "start_time": "2025-03-16T12:13:14.222199",
     "status": "completed"
    },
    "tags": []
   },
   "outputs": [
    {
     "data": {
      "text/plain": [
       "array(['SBrkr', 'FuseF', 'FuseA', 'FuseP', 'Mix', nan], dtype=object)"
      ]
     },
     "execution_count": 26,
     "metadata": {},
     "output_type": "execute_result"
    }
   ],
   "source": [
    "train[\"Electrical\"].unique()\n"
   ]
  },
  {
   "cell_type": "code",
   "execution_count": 27,
   "id": "f03c784f",
   "metadata": {
    "execution": {
     "iopub.execute_input": "2025-03-16T12:13:14.276533Z",
     "iopub.status.busy": "2025-03-16T12:13:14.276209Z",
     "iopub.status.idle": "2025-03-16T12:13:14.283661Z",
     "shell.execute_reply": "2025-03-16T12:13:14.282686Z"
    },
    "papermill": {
     "duration": 0.024753,
     "end_time": "2025-03-16T12:13:14.285302",
     "exception": false,
     "start_time": "2025-03-16T12:13:14.260549",
     "status": "completed"
    },
    "tags": []
   },
   "outputs": [],
   "source": [
    "train = train.dropna(subset=[\"Electrical\"])\n"
   ]
  },
  {
   "cell_type": "code",
   "execution_count": 28,
   "id": "a703ab3c",
   "metadata": {
    "execution": {
     "iopub.execute_input": "2025-03-16T12:13:14.316241Z",
     "iopub.status.busy": "2025-03-16T12:13:14.315885Z",
     "iopub.status.idle": "2025-03-16T12:13:14.322257Z",
     "shell.execute_reply": "2025-03-16T12:13:14.321106Z"
    },
    "papermill": {
     "duration": 0.023837,
     "end_time": "2025-03-16T12:13:14.324013",
     "exception": false,
     "start_time": "2025-03-16T12:13:14.300176",
     "status": "completed"
    },
    "tags": []
   },
   "outputs": [
    {
     "data": {
      "text/plain": [
       "array([nan, 'TA', 'Gd', 'Fa', 'Ex', 'Po'], dtype=object)"
      ]
     },
     "execution_count": 28,
     "metadata": {},
     "output_type": "execute_result"
    }
   ],
   "source": [
    "train[\"FireplaceQu\"].unique()\n"
   ]
  },
  {
   "cell_type": "code",
   "execution_count": 29,
   "id": "95193572",
   "metadata": {
    "execution": {
     "iopub.execute_input": "2025-03-16T12:13:14.355344Z",
     "iopub.status.busy": "2025-03-16T12:13:14.355009Z",
     "iopub.status.idle": "2025-03-16T12:13:14.360557Z",
     "shell.execute_reply": "2025-03-16T12:13:14.359479Z"
    },
    "papermill": {
     "duration": 0.023025,
     "end_time": "2025-03-16T12:13:14.362219",
     "exception": false,
     "start_time": "2025-03-16T12:13:14.339194",
     "status": "completed"
    },
    "tags": []
   },
   "outputs": [],
   "source": [
    "train[\"FireplaceQu\"].fillna(\"no\",inplace=True)\n",
    "test[\"FireplaceQu\"].fillna(\"no\",inplace=True)"
   ]
  },
  {
   "cell_type": "code",
   "execution_count": 30,
   "id": "9b54ccc9",
   "metadata": {
    "execution": {
     "iopub.execute_input": "2025-03-16T12:13:14.394026Z",
     "iopub.status.busy": "2025-03-16T12:13:14.393634Z",
     "iopub.status.idle": "2025-03-16T12:13:14.399792Z",
     "shell.execute_reply": "2025-03-16T12:13:14.398753Z"
    },
    "papermill": {
     "duration": 0.024068,
     "end_time": "2025-03-16T12:13:14.401391",
     "exception": false,
     "start_time": "2025-03-16T12:13:14.377323",
     "status": "completed"
    },
    "tags": []
   },
   "outputs": [
    {
     "data": {
      "text/plain": [
       "array(['Attchd', 'Detchd', 'BuiltIn', 'CarPort', nan, 'Basment', '2Types'],\n",
       "      dtype=object)"
      ]
     },
     "execution_count": 30,
     "metadata": {},
     "output_type": "execute_result"
    }
   ],
   "source": [
    "train[\"GarageType\"].unique()\n"
   ]
  },
  {
   "cell_type": "code",
   "execution_count": 31,
   "id": "e896822a",
   "metadata": {
    "execution": {
     "iopub.execute_input": "2025-03-16T12:13:14.432655Z",
     "iopub.status.busy": "2025-03-16T12:13:14.432198Z",
     "iopub.status.idle": "2025-03-16T12:13:14.438507Z",
     "shell.execute_reply": "2025-03-16T12:13:14.437447Z"
    },
    "papermill": {
     "duration": 0.023909,
     "end_time": "2025-03-16T12:13:14.440220",
     "exception": false,
     "start_time": "2025-03-16T12:13:14.416311",
     "status": "completed"
    },
    "tags": []
   },
   "outputs": [],
   "source": [
    "train[\"GarageType\"].fillna(\"no\",inplace=True)\n",
    "test[\"GarageType\"].fillna(\"no\",inplace=True)"
   ]
  },
  {
   "cell_type": "code",
   "execution_count": 32,
   "id": "9b690d60",
   "metadata": {
    "execution": {
     "iopub.execute_input": "2025-03-16T12:13:14.471400Z",
     "iopub.status.busy": "2025-03-16T12:13:14.471042Z",
     "iopub.status.idle": "2025-03-16T12:13:14.477964Z",
     "shell.execute_reply": "2025-03-16T12:13:14.476963Z"
    },
    "papermill": {
     "duration": 0.02412,
     "end_time": "2025-03-16T12:13:14.479579",
     "exception": false,
     "start_time": "2025-03-16T12:13:14.455459",
     "status": "completed"
    },
    "tags": []
   },
   "outputs": [
    {
     "data": {
      "text/plain": [
       "array([2003., 1976., 2001., 1998., 2000., 1993., 2004., 1973., 1931.,\n",
       "       1939., 1965., 2005., 1962., 2006., 1960., 1991., 1970., 1967.,\n",
       "       1958., 1930., 2002., 1968., 2007., 2008., 1957., 1920., 1966.,\n",
       "       1959., 1995., 1954., 1953.,   nan, 1983., 1977., 1997., 1985.,\n",
       "       1963., 1981., 1964., 1999., 1935., 1990., 1945., 1987., 1989.,\n",
       "       1915., 1956., 1948., 1974., 2009., 1950., 1961., 1921., 1900.,\n",
       "       1979., 1951., 1969., 1936., 1975., 1971., 1923., 1984., 1926.,\n",
       "       1955., 1986., 1988., 1916., 1932., 1972., 1918., 1980., 1924.,\n",
       "       1996., 1940., 1949., 1994., 1910., 1978., 1982., 1992., 1925.,\n",
       "       1941., 2010., 1927., 1947., 1937., 1942., 1938., 1952., 1928.,\n",
       "       1922., 1934., 1906., 1914., 1946., 1908., 1929., 1933.])"
      ]
     },
     "execution_count": 32,
     "metadata": {},
     "output_type": "execute_result"
    }
   ],
   "source": [
    "train[\"GarageYrBlt\"].unique()\n"
   ]
  },
  {
   "cell_type": "code",
   "execution_count": 33,
   "id": "363da130",
   "metadata": {
    "execution": {
     "iopub.execute_input": "2025-03-16T12:13:14.565866Z",
     "iopub.status.busy": "2025-03-16T12:13:14.565371Z",
     "iopub.status.idle": "2025-03-16T12:13:14.571582Z",
     "shell.execute_reply": "2025-03-16T12:13:14.570416Z"
    },
    "papermill": {
     "duration": 0.078747,
     "end_time": "2025-03-16T12:13:14.573634",
     "exception": false,
     "start_time": "2025-03-16T12:13:14.494887",
     "status": "completed"
    },
    "tags": []
   },
   "outputs": [],
   "source": [
    "train[\"GarageYrBlt\"].fillna(0,inplace=True)\n",
    "test[\"GarageYrBlt\"].fillna(0,inplace=True)"
   ]
  },
  {
   "cell_type": "code",
   "execution_count": 34,
   "id": "fcc8d149",
   "metadata": {
    "execution": {
     "iopub.execute_input": "2025-03-16T12:13:14.605907Z",
     "iopub.status.busy": "2025-03-16T12:13:14.605470Z",
     "iopub.status.idle": "2025-03-16T12:13:14.611720Z",
     "shell.execute_reply": "2025-03-16T12:13:14.610764Z"
    },
    "papermill": {
     "duration": 0.023772,
     "end_time": "2025-03-16T12:13:14.613478",
     "exception": false,
     "start_time": "2025-03-16T12:13:14.589706",
     "status": "completed"
    },
    "tags": []
   },
   "outputs": [
    {
     "data": {
      "text/plain": [
       "array(['RFn', 'Unf', 'Fin', nan], dtype=object)"
      ]
     },
     "execution_count": 34,
     "metadata": {},
     "output_type": "execute_result"
    }
   ],
   "source": [
    "train[\"GarageFinish\"].unique()\n"
   ]
  },
  {
   "cell_type": "code",
   "execution_count": 35,
   "id": "10eee630",
   "metadata": {
    "execution": {
     "iopub.execute_input": "2025-03-16T12:13:14.646403Z",
     "iopub.status.busy": "2025-03-16T12:13:14.646015Z",
     "iopub.status.idle": "2025-03-16T12:13:14.652545Z",
     "shell.execute_reply": "2025-03-16T12:13:14.651518Z"
    },
    "papermill": {
     "duration": 0.025342,
     "end_time": "2025-03-16T12:13:14.654483",
     "exception": false,
     "start_time": "2025-03-16T12:13:14.629141",
     "status": "completed"
    },
    "tags": []
   },
   "outputs": [],
   "source": [
    "train[\"GarageFinish\"].fillna('no',inplace=True)\n",
    "test[\"GarageFinish\"].fillna('no',inplace=True)"
   ]
  },
  {
   "cell_type": "code",
   "execution_count": 36,
   "id": "0ed88ea6",
   "metadata": {
    "execution": {
     "iopub.execute_input": "2025-03-16T12:13:14.686401Z",
     "iopub.status.busy": "2025-03-16T12:13:14.686040Z",
     "iopub.status.idle": "2025-03-16T12:13:14.692400Z",
     "shell.execute_reply": "2025-03-16T12:13:14.691374Z"
    },
    "papermill": {
     "duration": 0.024403,
     "end_time": "2025-03-16T12:13:14.694279",
     "exception": false,
     "start_time": "2025-03-16T12:13:14.669876",
     "status": "completed"
    },
    "tags": []
   },
   "outputs": [],
   "source": [
    "train[\"GarageCond\"].fillna('no',inplace=True)\n",
    "test[\"GarageCond\"].fillna('no',inplace=True)"
   ]
  },
  {
   "cell_type": "code",
   "execution_count": 37,
   "id": "2939f427",
   "metadata": {
    "execution": {
     "iopub.execute_input": "2025-03-16T12:13:14.727531Z",
     "iopub.status.busy": "2025-03-16T12:13:14.727147Z",
     "iopub.status.idle": "2025-03-16T12:13:14.733123Z",
     "shell.execute_reply": "2025-03-16T12:13:14.731902Z"
    },
    "papermill": {
     "duration": 0.02497,
     "end_time": "2025-03-16T12:13:14.734861",
     "exception": false,
     "start_time": "2025-03-16T12:13:14.709891",
     "status": "completed"
    },
    "tags": []
   },
   "outputs": [],
   "source": [
    "train[\"GarageQual\"].fillna('no',inplace=True)\n",
    "test[\"GarageQual\"].fillna('no',inplace=True)"
   ]
  },
  {
   "cell_type": "code",
   "execution_count": 38,
   "id": "c02a8379",
   "metadata": {
    "execution": {
     "iopub.execute_input": "2025-03-16T12:13:14.768001Z",
     "iopub.status.busy": "2025-03-16T12:13:14.767587Z",
     "iopub.status.idle": "2025-03-16T12:13:14.774031Z",
     "shell.execute_reply": "2025-03-16T12:13:14.772951Z"
    },
    "papermill": {
     "duration": 0.025173,
     "end_time": "2025-03-16T12:13:14.776181",
     "exception": false,
     "start_time": "2025-03-16T12:13:14.751008",
     "status": "completed"
    },
    "tags": []
   },
   "outputs": [],
   "source": [
    "train[\"PoolQC\"].fillna('no',inplace=True)\n",
    "test[\"PoolQC\"].fillna('no',inplace=True)\n"
   ]
  },
  {
   "cell_type": "code",
   "execution_count": 39,
   "id": "5f4f492a",
   "metadata": {
    "execution": {
     "iopub.execute_input": "2025-03-16T12:13:14.809672Z",
     "iopub.status.busy": "2025-03-16T12:13:14.809288Z",
     "iopub.status.idle": "2025-03-16T12:13:14.815124Z",
     "shell.execute_reply": "2025-03-16T12:13:14.814057Z"
    },
    "papermill": {
     "duration": 0.023334,
     "end_time": "2025-03-16T12:13:14.816585",
     "exception": false,
     "start_time": "2025-03-16T12:13:14.793251",
     "status": "completed"
    },
    "tags": []
   },
   "outputs": [],
   "source": [
    "train[\"Fence\"].fillna('no',inplace=True)\n",
    "test[\"Fence\"].fillna('no',inplace=True)"
   ]
  },
  {
   "cell_type": "code",
   "execution_count": 40,
   "id": "5bbe40e4",
   "metadata": {
    "execution": {
     "iopub.execute_input": "2025-03-16T12:13:14.848196Z",
     "iopub.status.busy": "2025-03-16T12:13:14.847865Z",
     "iopub.status.idle": "2025-03-16T12:13:14.853405Z",
     "shell.execute_reply": "2025-03-16T12:13:14.852461Z"
    },
    "papermill": {
     "duration": 0.023626,
     "end_time": "2025-03-16T12:13:14.855420",
     "exception": false,
     "start_time": "2025-03-16T12:13:14.831794",
     "status": "completed"
    },
    "tags": []
   },
   "outputs": [],
   "source": [
    "train[\"MiscFeature\"].fillna('no',inplace=True)\n",
    "test[\"MiscFeature\"].fillna('no',inplace=True)"
   ]
  },
  {
   "cell_type": "code",
   "execution_count": 41,
   "id": "723893b1",
   "metadata": {
    "execution": {
     "iopub.execute_input": "2025-03-16T12:13:14.889507Z",
     "iopub.status.busy": "2025-03-16T12:13:14.889151Z",
     "iopub.status.idle": "2025-03-16T12:13:14.910253Z",
     "shell.execute_reply": "2025-03-16T12:13:14.909134Z"
    },
    "papermill": {
     "duration": 0.041257,
     "end_time": "2025-03-16T12:13:14.912222",
     "exception": false,
     "start_time": "2025-03-16T12:13:14.870965",
     "status": "completed"
    },
    "tags": []
   },
   "outputs": [],
   "source": [
    "test[\"Utilities\"].fillna(test[\"Utilities\"].mode()[0], inplace=True)\n",
    "test[\"Exterior1st\"].fillna(test[\"Exterior1st\"].mode()[0], inplace=True)\n",
    "test[\"MSZoning\"].fillna(test[\"MSZoning\"].mode()[0], inplace=True)\n",
    "test[\"Exterior2nd\"].fillna(test[\"Exterior2nd\"].mode()[0], inplace=True)\n",
    "test[\"BsmtFinSF1\"].fillna(test[\"BsmtFinSF1\"].mode()[0], inplace=True)\n",
    "test[\"BsmtFinSF2\"].fillna(test[\"BsmtFinSF2\"].mode()[0], inplace=True)\n",
    "test[\"SaleType\"].fillna(test[\"SaleType\"].mode()[0], inplace=True)\n",
    "test[\"GarageArea\"].fillna(test[\"GarageArea\"].mode()[0], inplace=True)\n",
    "test[\"GarageCars\"].fillna(test[\"GarageCars\"].mode()[0], inplace=True)\n",
    "test[\"Functional\"].fillna(test[\"Functional\"].mode()[0], inplace=True)\n",
    "test[\"KitchenQual\"].fillna(test[\"KitchenQual\"].mode()[0], inplace=True)\n",
    "test[\"BsmtHalfBath\"].fillna(test[\"BsmtHalfBath\"].mode()[0], inplace=True)\n",
    "test[\"BsmtFullBath\"].fillna(test[\"BsmtFullBath\"].mode()[0], inplace=True)\n",
    "test[\"TotalBsmtSF\"].fillna(test[\"TotalBsmtSF\"].mode()[0], inplace=True)\n",
    "test[\"BsmtUnfSF\"].fillna(test[\"BsmtUnfSF\"].mode()[0], inplace=True)"
   ]
  },
  {
   "cell_type": "code",
   "execution_count": 42,
   "id": "fb7eafe9",
   "metadata": {
    "execution": {
     "iopub.execute_input": "2025-03-16T12:13:14.944026Z",
     "iopub.status.busy": "2025-03-16T12:13:14.943449Z",
     "iopub.status.idle": "2025-03-16T12:13:14.961919Z",
     "shell.execute_reply": "2025-03-16T12:13:14.960050Z"
    },
    "papermill": {
     "duration": 0.036607,
     "end_time": "2025-03-16T12:13:14.964097",
     "exception": false,
     "start_time": "2025-03-16T12:13:14.927490",
     "status": "completed"
    },
    "tags": []
   },
   "outputs": [
    {
     "name": "stdout",
     "output_type": "stream",
     "text": [
      "<class 'pandas.core.frame.DataFrame'>\n",
      "Index: 1459 entries, 0 to 1459\n",
      "Data columns (total 81 columns):\n",
      " #   Column         Non-Null Count  Dtype  \n",
      "---  ------         --------------  -----  \n",
      " 0   Id             1459 non-null   int64  \n",
      " 1   MSSubClass     1459 non-null   int64  \n",
      " 2   MSZoning       1459 non-null   object \n",
      " 3   LotFrontage    1459 non-null   float64\n",
      " 4   LotArea        1459 non-null   int64  \n",
      " 5   Street         1459 non-null   object \n",
      " 6   Alley          1459 non-null   object \n",
      " 7   LotShape       1459 non-null   object \n",
      " 8   LandContour    1459 non-null   object \n",
      " 9   Utilities      1459 non-null   object \n",
      " 10  LotConfig      1459 non-null   object \n",
      " 11  LandSlope      1459 non-null   object \n",
      " 12  Neighborhood   1459 non-null   object \n",
      " 13  Condition1     1459 non-null   object \n",
      " 14  Condition2     1459 non-null   object \n",
      " 15  BldgType       1459 non-null   object \n",
      " 16  HouseStyle     1459 non-null   object \n",
      " 17  OverallQual    1459 non-null   int64  \n",
      " 18  OverallCond    1459 non-null   int64  \n",
      " 19  YearBuilt      1459 non-null   int64  \n",
      " 20  YearRemodAdd   1459 non-null   int64  \n",
      " 21  RoofStyle      1459 non-null   object \n",
      " 22  RoofMatl       1459 non-null   object \n",
      " 23  Exterior1st    1459 non-null   object \n",
      " 24  Exterior2nd    1459 non-null   object \n",
      " 25  MasVnrType     1459 non-null   object \n",
      " 26  MasVnrArea     1459 non-null   float64\n",
      " 27  ExterQual      1459 non-null   object \n",
      " 28  ExterCond      1459 non-null   object \n",
      " 29  Foundation     1459 non-null   object \n",
      " 30  BsmtQual       1459 non-null   object \n",
      " 31  BsmtCond       1459 non-null   object \n",
      " 32  BsmtExposure   1459 non-null   object \n",
      " 33  BsmtFinType1   1459 non-null   object \n",
      " 34  BsmtFinSF1     1459 non-null   int64  \n",
      " 35  BsmtFinType2   1459 non-null   object \n",
      " 36  BsmtFinSF2     1459 non-null   int64  \n",
      " 37  BsmtUnfSF      1459 non-null   int64  \n",
      " 38  TotalBsmtSF    1459 non-null   int64  \n",
      " 39  Heating        1459 non-null   object \n",
      " 40  HeatingQC      1459 non-null   object \n",
      " 41  CentralAir     1459 non-null   object \n",
      " 42  Electrical     1459 non-null   object \n",
      " 43  1stFlrSF       1459 non-null   int64  \n",
      " 44  2ndFlrSF       1459 non-null   int64  \n",
      " 45  LowQualFinSF   1459 non-null   int64  \n",
      " 46  GrLivArea      1459 non-null   int64  \n",
      " 47  BsmtFullBath   1459 non-null   int64  \n",
      " 48  BsmtHalfBath   1459 non-null   int64  \n",
      " 49  FullBath       1459 non-null   int64  \n",
      " 50  HalfBath       1459 non-null   int64  \n",
      " 51  BedroomAbvGr   1459 non-null   int64  \n",
      " 52  KitchenAbvGr   1459 non-null   int64  \n",
      " 53  KitchenQual    1459 non-null   object \n",
      " 54  TotRmsAbvGrd   1459 non-null   int64  \n",
      " 55  Functional     1459 non-null   object \n",
      " 56  Fireplaces     1459 non-null   int64  \n",
      " 57  FireplaceQu    1459 non-null   object \n",
      " 58  GarageType     1459 non-null   object \n",
      " 59  GarageYrBlt    1459 non-null   float64\n",
      " 60  GarageFinish   1459 non-null   object \n",
      " 61  GarageCars     1459 non-null   int64  \n",
      " 62  GarageArea     1459 non-null   int64  \n",
      " 63  GarageQual     1459 non-null   object \n",
      " 64  GarageCond     1459 non-null   object \n",
      " 65  PavedDrive     1459 non-null   object \n",
      " 66  WoodDeckSF     1459 non-null   int64  \n",
      " 67  OpenPorchSF    1459 non-null   int64  \n",
      " 68  EnclosedPorch  1459 non-null   int64  \n",
      " 69  3SsnPorch      1459 non-null   int64  \n",
      " 70  ScreenPorch    1459 non-null   int64  \n",
      " 71  PoolArea       1459 non-null   int64  \n",
      " 72  PoolQC         1459 non-null   object \n",
      " 73  Fence          1459 non-null   object \n",
      " 74  MiscFeature    1459 non-null   object \n",
      " 75  MiscVal        1459 non-null   int64  \n",
      " 76  MoSold         1459 non-null   int64  \n",
      " 77  YrSold         1459 non-null   int64  \n",
      " 78  SaleType       1459 non-null   object \n",
      " 79  SaleCondition  1459 non-null   object \n",
      " 80  SalePrice      1459 non-null   int64  \n",
      "dtypes: float64(3), int64(35), object(43)\n",
      "memory usage: 934.7+ KB\n"
     ]
    }
   ],
   "source": [
    "train.info()\n"
   ]
  },
  {
   "cell_type": "code",
   "execution_count": 43,
   "id": "f93e4d63",
   "metadata": {
    "execution": {
     "iopub.execute_input": "2025-03-16T12:13:14.996617Z",
     "iopub.status.busy": "2025-03-16T12:13:14.996228Z",
     "iopub.status.idle": "2025-03-16T12:13:15.012239Z",
     "shell.execute_reply": "2025-03-16T12:13:15.010879Z"
    },
    "papermill": {
     "duration": 0.033923,
     "end_time": "2025-03-16T12:13:15.013947",
     "exception": false,
     "start_time": "2025-03-16T12:13:14.980024",
     "status": "completed"
    },
    "tags": []
   },
   "outputs": [
    {
     "name": "stdout",
     "output_type": "stream",
     "text": [
      "<class 'pandas.core.frame.DataFrame'>\n",
      "RangeIndex: 1459 entries, 0 to 1458\n",
      "Data columns (total 80 columns):\n",
      " #   Column         Non-Null Count  Dtype  \n",
      "---  ------         --------------  -----  \n",
      " 0   Id             1459 non-null   int64  \n",
      " 1   MSSubClass     1459 non-null   int64  \n",
      " 2   MSZoning       1459 non-null   object \n",
      " 3   LotFrontage    1459 non-null   float64\n",
      " 4   LotArea        1459 non-null   int64  \n",
      " 5   Street         1459 non-null   object \n",
      " 6   Alley          1459 non-null   object \n",
      " 7   LotShape       1459 non-null   object \n",
      " 8   LandContour    1459 non-null   object \n",
      " 9   Utilities      1459 non-null   object \n",
      " 10  LotConfig      1459 non-null   object \n",
      " 11  LandSlope      1459 non-null   object \n",
      " 12  Neighborhood   1459 non-null   object \n",
      " 13  Condition1     1459 non-null   object \n",
      " 14  Condition2     1459 non-null   object \n",
      " 15  BldgType       1459 non-null   object \n",
      " 16  HouseStyle     1459 non-null   object \n",
      " 17  OverallQual    1459 non-null   int64  \n",
      " 18  OverallCond    1459 non-null   int64  \n",
      " 19  YearBuilt      1459 non-null   int64  \n",
      " 20  YearRemodAdd   1459 non-null   int64  \n",
      " 21  RoofStyle      1459 non-null   object \n",
      " 22  RoofMatl       1459 non-null   object \n",
      " 23  Exterior1st    1459 non-null   object \n",
      " 24  Exterior2nd    1459 non-null   object \n",
      " 25  MasVnrType     1459 non-null   object \n",
      " 26  MasVnrArea     1459 non-null   float64\n",
      " 27  ExterQual      1459 non-null   object \n",
      " 28  ExterCond      1459 non-null   object \n",
      " 29  Foundation     1459 non-null   object \n",
      " 30  BsmtQual       1459 non-null   object \n",
      " 31  BsmtCond       1459 non-null   object \n",
      " 32  BsmtExposure   1459 non-null   object \n",
      " 33  BsmtFinType1   1459 non-null   object \n",
      " 34  BsmtFinSF1     1459 non-null   float64\n",
      " 35  BsmtFinType2   1459 non-null   object \n",
      " 36  BsmtFinSF2     1459 non-null   float64\n",
      " 37  BsmtUnfSF      1459 non-null   float64\n",
      " 38  TotalBsmtSF    1459 non-null   float64\n",
      " 39  Heating        1459 non-null   object \n",
      " 40  HeatingQC      1459 non-null   object \n",
      " 41  CentralAir     1459 non-null   object \n",
      " 42  Electrical     1459 non-null   object \n",
      " 43  1stFlrSF       1459 non-null   int64  \n",
      " 44  2ndFlrSF       1459 non-null   int64  \n",
      " 45  LowQualFinSF   1459 non-null   int64  \n",
      " 46  GrLivArea      1459 non-null   int64  \n",
      " 47  BsmtFullBath   1459 non-null   float64\n",
      " 48  BsmtHalfBath   1459 non-null   float64\n",
      " 49  FullBath       1459 non-null   int64  \n",
      " 50  HalfBath       1459 non-null   int64  \n",
      " 51  BedroomAbvGr   1459 non-null   int64  \n",
      " 52  KitchenAbvGr   1459 non-null   int64  \n",
      " 53  KitchenQual    1459 non-null   object \n",
      " 54  TotRmsAbvGrd   1459 non-null   int64  \n",
      " 55  Functional     1459 non-null   object \n",
      " 56  Fireplaces     1459 non-null   int64  \n",
      " 57  FireplaceQu    1459 non-null   object \n",
      " 58  GarageType     1459 non-null   object \n",
      " 59  GarageYrBlt    1459 non-null   float64\n",
      " 60  GarageFinish   1459 non-null   object \n",
      " 61  GarageCars     1459 non-null   float64\n",
      " 62  GarageArea     1459 non-null   float64\n",
      " 63  GarageQual     1459 non-null   object \n",
      " 64  GarageCond     1459 non-null   object \n",
      " 65  PavedDrive     1459 non-null   object \n",
      " 66  WoodDeckSF     1459 non-null   int64  \n",
      " 67  OpenPorchSF    1459 non-null   int64  \n",
      " 68  EnclosedPorch  1459 non-null   int64  \n",
      " 69  3SsnPorch      1459 non-null   int64  \n",
      " 70  ScreenPorch    1459 non-null   int64  \n",
      " 71  PoolArea       1459 non-null   int64  \n",
      " 72  PoolQC         1459 non-null   object \n",
      " 73  Fence          1459 non-null   object \n",
      " 74  MiscFeature    1459 non-null   object \n",
      " 75  MiscVal        1459 non-null   int64  \n",
      " 76  MoSold         1459 non-null   int64  \n",
      " 77  YrSold         1459 non-null   int64  \n",
      " 78  SaleType       1459 non-null   object \n",
      " 79  SaleCondition  1459 non-null   object \n",
      "dtypes: float64(11), int64(26), object(43)\n",
      "memory usage: 912.0+ KB\n"
     ]
    }
   ],
   "source": [
    "test.info()\n"
   ]
  },
  {
   "cell_type": "code",
   "execution_count": 44,
   "id": "b49ba700",
   "metadata": {
    "execution": {
     "iopub.execute_input": "2025-03-16T12:13:15.046370Z",
     "iopub.status.busy": "2025-03-16T12:13:15.046014Z",
     "iopub.status.idle": "2025-03-16T12:13:15.051260Z",
     "shell.execute_reply": "2025-03-16T12:13:15.050162Z"
    },
    "papermill": {
     "duration": 0.023315,
     "end_time": "2025-03-16T12:13:15.052975",
     "exception": false,
     "start_time": "2025-03-16T12:13:15.029660",
     "status": "completed"
    },
    "tags": []
   },
   "outputs": [],
   "source": [
    "categural=train.select_dtypes(include=[\"object\"]).columns\n"
   ]
  },
  {
   "cell_type": "code",
   "execution_count": 45,
   "id": "a443ed3d",
   "metadata": {
    "execution": {
     "iopub.execute_input": "2025-03-16T12:13:15.085757Z",
     "iopub.status.busy": "2025-03-16T12:13:15.085334Z",
     "iopub.status.idle": "2025-03-16T12:13:15.091381Z",
     "shell.execute_reply": "2025-03-16T12:13:15.090426Z"
    },
    "papermill": {
     "duration": 0.024267,
     "end_time": "2025-03-16T12:13:15.093253",
     "exception": false,
     "start_time": "2025-03-16T12:13:15.068986",
     "status": "completed"
    },
    "tags": []
   },
   "outputs": [
    {
     "data": {
      "text/plain": [
       "Index(['MSZoning', 'Street', 'Alley', 'LotShape', 'LandContour', 'Utilities',\n",
       "       'LotConfig', 'LandSlope', 'Neighborhood', 'Condition1', 'Condition2',\n",
       "       'BldgType', 'HouseStyle', 'RoofStyle', 'RoofMatl', 'Exterior1st',\n",
       "       'Exterior2nd', 'MasVnrType', 'ExterQual', 'ExterCond', 'Foundation',\n",
       "       'BsmtQual', 'BsmtCond', 'BsmtExposure', 'BsmtFinType1', 'BsmtFinType2',\n",
       "       'Heating', 'HeatingQC', 'CentralAir', 'Electrical', 'KitchenQual',\n",
       "       'Functional', 'FireplaceQu', 'GarageType', 'GarageFinish', 'GarageQual',\n",
       "       'GarageCond', 'PavedDrive', 'PoolQC', 'Fence', 'MiscFeature',\n",
       "       'SaleType', 'SaleCondition'],\n",
       "      dtype='object')"
      ]
     },
     "execution_count": 45,
     "metadata": {},
     "output_type": "execute_result"
    }
   ],
   "source": [
    "categural\n"
   ]
  },
  {
   "cell_type": "code",
   "execution_count": 46,
   "id": "33d0cb38",
   "metadata": {
    "execution": {
     "iopub.execute_input": "2025-03-16T12:13:15.127658Z",
     "iopub.status.busy": "2025-03-16T12:13:15.127310Z",
     "iopub.status.idle": "2025-03-16T12:13:15.143108Z",
     "shell.execute_reply": "2025-03-16T12:13:15.141969Z"
    },
    "papermill": {
     "duration": 0.035006,
     "end_time": "2025-03-16T12:13:15.144960",
     "exception": false,
     "start_time": "2025-03-16T12:13:15.109954",
     "status": "completed"
    },
    "tags": []
   },
   "outputs": [
    {
     "data": {
      "text/plain": [
       "0"
      ]
     },
     "execution_count": 46,
     "metadata": {},
     "output_type": "execute_result"
    }
   ],
   "source": [
    "train.duplicated().sum() \n"
   ]
  },
  {
   "cell_type": "code",
   "execution_count": 47,
   "id": "2eaef333",
   "metadata": {
    "execution": {
     "iopub.execute_input": "2025-03-16T12:13:15.178388Z",
     "iopub.status.busy": "2025-03-16T12:13:15.178059Z",
     "iopub.status.idle": "2025-03-16T12:13:15.237947Z",
     "shell.execute_reply": "2025-03-16T12:13:15.236928Z"
    },
    "papermill": {
     "duration": 0.078416,
     "end_time": "2025-03-16T12:13:15.239863",
     "exception": false,
     "start_time": "2025-03-16T12:13:15.161447",
     "status": "completed"
    },
    "tags": []
   },
   "outputs": [],
   "source": [
    "from sklearn.preprocessing import LabelEncoder\n",
    "\n",
    "le = LabelEncoder()\n",
    "\n",
    "for col in train.select_dtypes(include=[\"object\"]).columns:\n",
    "    train[col] = le.fit_transform(train[col])\n",
    "\n",
    "for col in test.select_dtypes(include=[\"object\"]).columns:\n",
    "    test[col] = le.fit_transform(test[col])"
   ]
  },
  {
   "cell_type": "code",
   "execution_count": 48,
   "id": "3e55d167",
   "metadata": {
    "execution": {
     "iopub.execute_input": "2025-03-16T12:13:15.272392Z",
     "iopub.status.busy": "2025-03-16T12:13:15.272064Z",
     "iopub.status.idle": "2025-03-16T12:13:15.290331Z",
     "shell.execute_reply": "2025-03-16T12:13:15.289206Z"
    },
    "papermill": {
     "duration": 0.036604,
     "end_time": "2025-03-16T12:13:15.292180",
     "exception": false,
     "start_time": "2025-03-16T12:13:15.255576",
     "status": "completed"
    },
    "tags": []
   },
   "outputs": [
    {
     "data": {
      "text/html": [
       "<div>\n",
       "<style scoped>\n",
       "    .dataframe tbody tr th:only-of-type {\n",
       "        vertical-align: middle;\n",
       "    }\n",
       "\n",
       "    .dataframe tbody tr th {\n",
       "        vertical-align: top;\n",
       "    }\n",
       "\n",
       "    .dataframe thead th {\n",
       "        text-align: right;\n",
       "    }\n",
       "</style>\n",
       "<table border=\"1\" class=\"dataframe\">\n",
       "  <thead>\n",
       "    <tr style=\"text-align: right;\">\n",
       "      <th></th>\n",
       "      <th>Id</th>\n",
       "      <th>MSSubClass</th>\n",
       "      <th>MSZoning</th>\n",
       "      <th>LotFrontage</th>\n",
       "      <th>LotArea</th>\n",
       "      <th>Street</th>\n",
       "      <th>Alley</th>\n",
       "      <th>LotShape</th>\n",
       "      <th>LandContour</th>\n",
       "      <th>Utilities</th>\n",
       "      <th>...</th>\n",
       "      <th>PoolArea</th>\n",
       "      <th>PoolQC</th>\n",
       "      <th>Fence</th>\n",
       "      <th>MiscFeature</th>\n",
       "      <th>MiscVal</th>\n",
       "      <th>MoSold</th>\n",
       "      <th>YrSold</th>\n",
       "      <th>SaleType</th>\n",
       "      <th>SaleCondition</th>\n",
       "      <th>SalePrice</th>\n",
       "    </tr>\n",
       "  </thead>\n",
       "  <tbody>\n",
       "    <tr>\n",
       "      <th>0</th>\n",
       "      <td>1</td>\n",
       "      <td>60</td>\n",
       "      <td>3</td>\n",
       "      <td>65.0</td>\n",
       "      <td>8450</td>\n",
       "      <td>1</td>\n",
       "      <td>2</td>\n",
       "      <td>3</td>\n",
       "      <td>3</td>\n",
       "      <td>0</td>\n",
       "      <td>...</td>\n",
       "      <td>0</td>\n",
       "      <td>3</td>\n",
       "      <td>4</td>\n",
       "      <td>4</td>\n",
       "      <td>0</td>\n",
       "      <td>2</td>\n",
       "      <td>2008</td>\n",
       "      <td>8</td>\n",
       "      <td>4</td>\n",
       "      <td>208500</td>\n",
       "    </tr>\n",
       "    <tr>\n",
       "      <th>1</th>\n",
       "      <td>2</td>\n",
       "      <td>20</td>\n",
       "      <td>3</td>\n",
       "      <td>80.0</td>\n",
       "      <td>9600</td>\n",
       "      <td>1</td>\n",
       "      <td>2</td>\n",
       "      <td>3</td>\n",
       "      <td>3</td>\n",
       "      <td>0</td>\n",
       "      <td>...</td>\n",
       "      <td>0</td>\n",
       "      <td>3</td>\n",
       "      <td>4</td>\n",
       "      <td>4</td>\n",
       "      <td>0</td>\n",
       "      <td>5</td>\n",
       "      <td>2007</td>\n",
       "      <td>8</td>\n",
       "      <td>4</td>\n",
       "      <td>181500</td>\n",
       "    </tr>\n",
       "    <tr>\n",
       "      <th>2</th>\n",
       "      <td>3</td>\n",
       "      <td>60</td>\n",
       "      <td>3</td>\n",
       "      <td>68.0</td>\n",
       "      <td>11250</td>\n",
       "      <td>1</td>\n",
       "      <td>2</td>\n",
       "      <td>0</td>\n",
       "      <td>3</td>\n",
       "      <td>0</td>\n",
       "      <td>...</td>\n",
       "      <td>0</td>\n",
       "      <td>3</td>\n",
       "      <td>4</td>\n",
       "      <td>4</td>\n",
       "      <td>0</td>\n",
       "      <td>9</td>\n",
       "      <td>2008</td>\n",
       "      <td>8</td>\n",
       "      <td>4</td>\n",
       "      <td>223500</td>\n",
       "    </tr>\n",
       "    <tr>\n",
       "      <th>3</th>\n",
       "      <td>4</td>\n",
       "      <td>70</td>\n",
       "      <td>3</td>\n",
       "      <td>60.0</td>\n",
       "      <td>9550</td>\n",
       "      <td>1</td>\n",
       "      <td>2</td>\n",
       "      <td>0</td>\n",
       "      <td>3</td>\n",
       "      <td>0</td>\n",
       "      <td>...</td>\n",
       "      <td>0</td>\n",
       "      <td>3</td>\n",
       "      <td>4</td>\n",
       "      <td>4</td>\n",
       "      <td>0</td>\n",
       "      <td>2</td>\n",
       "      <td>2006</td>\n",
       "      <td>8</td>\n",
       "      <td>0</td>\n",
       "      <td>140000</td>\n",
       "    </tr>\n",
       "    <tr>\n",
       "      <th>4</th>\n",
       "      <td>5</td>\n",
       "      <td>60</td>\n",
       "      <td>3</td>\n",
       "      <td>84.0</td>\n",
       "      <td>14260</td>\n",
       "      <td>1</td>\n",
       "      <td>2</td>\n",
       "      <td>0</td>\n",
       "      <td>3</td>\n",
       "      <td>0</td>\n",
       "      <td>...</td>\n",
       "      <td>0</td>\n",
       "      <td>3</td>\n",
       "      <td>4</td>\n",
       "      <td>4</td>\n",
       "      <td>0</td>\n",
       "      <td>12</td>\n",
       "      <td>2008</td>\n",
       "      <td>8</td>\n",
       "      <td>4</td>\n",
       "      <td>250000</td>\n",
       "    </tr>\n",
       "  </tbody>\n",
       "</table>\n",
       "<p>5 rows × 81 columns</p>\n",
       "</div>"
      ],
      "text/plain": [
       "   Id  MSSubClass  MSZoning  LotFrontage  LotArea  Street  Alley  LotShape  \\\n",
       "0   1          60         3         65.0     8450       1      2         3   \n",
       "1   2          20         3         80.0     9600       1      2         3   \n",
       "2   3          60         3         68.0    11250       1      2         0   \n",
       "3   4          70         3         60.0     9550       1      2         0   \n",
       "4   5          60         3         84.0    14260       1      2         0   \n",
       "\n",
       "   LandContour  Utilities  ...  PoolArea  PoolQC  Fence  MiscFeature  MiscVal  \\\n",
       "0            3          0  ...         0       3      4            4        0   \n",
       "1            3          0  ...         0       3      4            4        0   \n",
       "2            3          0  ...         0       3      4            4        0   \n",
       "3            3          0  ...         0       3      4            4        0   \n",
       "4            3          0  ...         0       3      4            4        0   \n",
       "\n",
       "   MoSold  YrSold  SaleType  SaleCondition  SalePrice  \n",
       "0       2    2008         8              4     208500  \n",
       "1       5    2007         8              4     181500  \n",
       "2       9    2008         8              4     223500  \n",
       "3       2    2006         8              0     140000  \n",
       "4      12    2008         8              4     250000  \n",
       "\n",
       "[5 rows x 81 columns]"
      ]
     },
     "execution_count": 48,
     "metadata": {},
     "output_type": "execute_result"
    }
   ],
   "source": [
    "train.head()\n"
   ]
  },
  {
   "cell_type": "code",
   "execution_count": 49,
   "id": "c35dabb1",
   "metadata": {
    "execution": {
     "iopub.execute_input": "2025-03-16T12:13:15.325821Z",
     "iopub.status.busy": "2025-03-16T12:13:15.325413Z",
     "iopub.status.idle": "2025-03-16T12:13:15.343739Z",
     "shell.execute_reply": "2025-03-16T12:13:15.342742Z"
    },
    "papermill": {
     "duration": 0.036901,
     "end_time": "2025-03-16T12:13:15.345547",
     "exception": false,
     "start_time": "2025-03-16T12:13:15.308646",
     "status": "completed"
    },
    "tags": []
   },
   "outputs": [
    {
     "data": {
      "text/html": [
       "<div>\n",
       "<style scoped>\n",
       "    .dataframe tbody tr th:only-of-type {\n",
       "        vertical-align: middle;\n",
       "    }\n",
       "\n",
       "    .dataframe tbody tr th {\n",
       "        vertical-align: top;\n",
       "    }\n",
       "\n",
       "    .dataframe thead th {\n",
       "        text-align: right;\n",
       "    }\n",
       "</style>\n",
       "<table border=\"1\" class=\"dataframe\">\n",
       "  <thead>\n",
       "    <tr style=\"text-align: right;\">\n",
       "      <th></th>\n",
       "      <th>Id</th>\n",
       "      <th>MSSubClass</th>\n",
       "      <th>MSZoning</th>\n",
       "      <th>LotFrontage</th>\n",
       "      <th>LotArea</th>\n",
       "      <th>Street</th>\n",
       "      <th>Alley</th>\n",
       "      <th>LotShape</th>\n",
       "      <th>LandContour</th>\n",
       "      <th>Utilities</th>\n",
       "      <th>...</th>\n",
       "      <th>ScreenPorch</th>\n",
       "      <th>PoolArea</th>\n",
       "      <th>PoolQC</th>\n",
       "      <th>Fence</th>\n",
       "      <th>MiscFeature</th>\n",
       "      <th>MiscVal</th>\n",
       "      <th>MoSold</th>\n",
       "      <th>YrSold</th>\n",
       "      <th>SaleType</th>\n",
       "      <th>SaleCondition</th>\n",
       "    </tr>\n",
       "  </thead>\n",
       "  <tbody>\n",
       "    <tr>\n",
       "      <th>0</th>\n",
       "      <td>1461</td>\n",
       "      <td>20</td>\n",
       "      <td>2</td>\n",
       "      <td>80.0</td>\n",
       "      <td>11622</td>\n",
       "      <td>1</td>\n",
       "      <td>2</td>\n",
       "      <td>3</td>\n",
       "      <td>3</td>\n",
       "      <td>0</td>\n",
       "      <td>...</td>\n",
       "      <td>120</td>\n",
       "      <td>0</td>\n",
       "      <td>2</td>\n",
       "      <td>2</td>\n",
       "      <td>3</td>\n",
       "      <td>0</td>\n",
       "      <td>6</td>\n",
       "      <td>2010</td>\n",
       "      <td>8</td>\n",
       "      <td>4</td>\n",
       "    </tr>\n",
       "    <tr>\n",
       "      <th>1</th>\n",
       "      <td>1462</td>\n",
       "      <td>20</td>\n",
       "      <td>3</td>\n",
       "      <td>81.0</td>\n",
       "      <td>14267</td>\n",
       "      <td>1</td>\n",
       "      <td>2</td>\n",
       "      <td>0</td>\n",
       "      <td>3</td>\n",
       "      <td>0</td>\n",
       "      <td>...</td>\n",
       "      <td>0</td>\n",
       "      <td>0</td>\n",
       "      <td>2</td>\n",
       "      <td>4</td>\n",
       "      <td>0</td>\n",
       "      <td>12500</td>\n",
       "      <td>6</td>\n",
       "      <td>2010</td>\n",
       "      <td>8</td>\n",
       "      <td>4</td>\n",
       "    </tr>\n",
       "    <tr>\n",
       "      <th>2</th>\n",
       "      <td>1463</td>\n",
       "      <td>60</td>\n",
       "      <td>3</td>\n",
       "      <td>74.0</td>\n",
       "      <td>13830</td>\n",
       "      <td>1</td>\n",
       "      <td>2</td>\n",
       "      <td>0</td>\n",
       "      <td>3</td>\n",
       "      <td>0</td>\n",
       "      <td>...</td>\n",
       "      <td>0</td>\n",
       "      <td>0</td>\n",
       "      <td>2</td>\n",
       "      <td>2</td>\n",
       "      <td>3</td>\n",
       "      <td>0</td>\n",
       "      <td>3</td>\n",
       "      <td>2010</td>\n",
       "      <td>8</td>\n",
       "      <td>4</td>\n",
       "    </tr>\n",
       "    <tr>\n",
       "      <th>3</th>\n",
       "      <td>1464</td>\n",
       "      <td>60</td>\n",
       "      <td>3</td>\n",
       "      <td>78.0</td>\n",
       "      <td>9978</td>\n",
       "      <td>1</td>\n",
       "      <td>2</td>\n",
       "      <td>0</td>\n",
       "      <td>3</td>\n",
       "      <td>0</td>\n",
       "      <td>...</td>\n",
       "      <td>0</td>\n",
       "      <td>0</td>\n",
       "      <td>2</td>\n",
       "      <td>4</td>\n",
       "      <td>3</td>\n",
       "      <td>0</td>\n",
       "      <td>6</td>\n",
       "      <td>2010</td>\n",
       "      <td>8</td>\n",
       "      <td>4</td>\n",
       "    </tr>\n",
       "    <tr>\n",
       "      <th>4</th>\n",
       "      <td>1465</td>\n",
       "      <td>120</td>\n",
       "      <td>3</td>\n",
       "      <td>43.0</td>\n",
       "      <td>5005</td>\n",
       "      <td>1</td>\n",
       "      <td>2</td>\n",
       "      <td>0</td>\n",
       "      <td>1</td>\n",
       "      <td>0</td>\n",
       "      <td>...</td>\n",
       "      <td>144</td>\n",
       "      <td>0</td>\n",
       "      <td>2</td>\n",
       "      <td>4</td>\n",
       "      <td>3</td>\n",
       "      <td>0</td>\n",
       "      <td>1</td>\n",
       "      <td>2010</td>\n",
       "      <td>8</td>\n",
       "      <td>4</td>\n",
       "    </tr>\n",
       "  </tbody>\n",
       "</table>\n",
       "<p>5 rows × 80 columns</p>\n",
       "</div>"
      ],
      "text/plain": [
       "     Id  MSSubClass  MSZoning  LotFrontage  LotArea  Street  Alley  LotShape  \\\n",
       "0  1461          20         2         80.0    11622       1      2         3   \n",
       "1  1462          20         3         81.0    14267       1      2         0   \n",
       "2  1463          60         3         74.0    13830       1      2         0   \n",
       "3  1464          60         3         78.0     9978       1      2         0   \n",
       "4  1465         120         3         43.0     5005       1      2         0   \n",
       "\n",
       "   LandContour  Utilities  ...  ScreenPorch  PoolArea  PoolQC  Fence  \\\n",
       "0            3          0  ...          120         0       2      2   \n",
       "1            3          0  ...            0         0       2      4   \n",
       "2            3          0  ...            0         0       2      2   \n",
       "3            3          0  ...            0         0       2      4   \n",
       "4            1          0  ...          144         0       2      4   \n",
       "\n",
       "   MiscFeature  MiscVal  MoSold  YrSold  SaleType  SaleCondition  \n",
       "0            3        0       6    2010         8              4  \n",
       "1            0    12500       6    2010         8              4  \n",
       "2            3        0       3    2010         8              4  \n",
       "3            3        0       6    2010         8              4  \n",
       "4            3        0       1    2010         8              4  \n",
       "\n",
       "[5 rows x 80 columns]"
      ]
     },
     "execution_count": 49,
     "metadata": {},
     "output_type": "execute_result"
    }
   ],
   "source": [
    "test.head()\n"
   ]
  },
  {
   "cell_type": "code",
   "execution_count": 50,
   "id": "63be2eae",
   "metadata": {
    "execution": {
     "iopub.execute_input": "2025-03-16T12:13:15.380392Z",
     "iopub.status.busy": "2025-03-16T12:13:15.379979Z",
     "iopub.status.idle": "2025-03-16T12:13:15.388045Z",
     "shell.execute_reply": "2025-03-16T12:13:15.386884Z"
    },
    "papermill": {
     "duration": 0.027318,
     "end_time": "2025-03-16T12:13:15.389814",
     "exception": false,
     "start_time": "2025-03-16T12:13:15.362496",
     "status": "completed"
    },
    "tags": []
   },
   "outputs": [],
   "source": [
    "X = train.drop(\"SalePrice\", axis=1)  \n",
    "y = train[\"SalePrice\"]  "
   ]
  },
  {
   "cell_type": "code",
   "execution_count": 51,
   "id": "9561832c",
   "metadata": {
    "execution": {
     "iopub.execute_input": "2025-03-16T12:13:15.424233Z",
     "iopub.status.busy": "2025-03-16T12:13:15.423847Z",
     "iopub.status.idle": "2025-03-16T12:13:15.433867Z",
     "shell.execute_reply": "2025-03-16T12:13:15.432747Z"
    },
    "papermill": {
     "duration": 0.029333,
     "end_time": "2025-03-16T12:13:15.436060",
     "exception": false,
     "start_time": "2025-03-16T12:13:15.406727",
     "status": "completed"
    },
    "tags": []
   },
   "outputs": [],
   "source": [
    "X_train, X_test, y_train, y_test = train_test_split(X, y, test_size=0.2, random_state=42)\n"
   ]
  },
  {
   "cell_type": "code",
   "execution_count": 52,
   "id": "5701c0d8",
   "metadata": {
    "execution": {
     "iopub.execute_input": "2025-03-16T12:13:15.470734Z",
     "iopub.status.busy": "2025-03-16T12:13:15.470354Z",
     "iopub.status.idle": "2025-03-16T12:13:15.546077Z",
     "shell.execute_reply": "2025-03-16T12:13:15.545046Z"
    },
    "papermill": {
     "duration": 0.094893,
     "end_time": "2025-03-16T12:13:15.547808",
     "exception": false,
     "start_time": "2025-03-16T12:13:15.452915",
     "status": "completed"
    },
    "tags": []
   },
   "outputs": [
    {
     "data": {
      "text/html": [
       "<style>#sk-container-id-1 {color: black;background-color: white;}#sk-container-id-1 pre{padding: 0;}#sk-container-id-1 div.sk-toggleable {background-color: white;}#sk-container-id-1 label.sk-toggleable__label {cursor: pointer;display: block;width: 100%;margin-bottom: 0;padding: 0.3em;box-sizing: border-box;text-align: center;}#sk-container-id-1 label.sk-toggleable__label-arrow:before {content: \"▸\";float: left;margin-right: 0.25em;color: #696969;}#sk-container-id-1 label.sk-toggleable__label-arrow:hover:before {color: black;}#sk-container-id-1 div.sk-estimator:hover label.sk-toggleable__label-arrow:before {color: black;}#sk-container-id-1 div.sk-toggleable__content {max-height: 0;max-width: 0;overflow: hidden;text-align: left;background-color: #f0f8ff;}#sk-container-id-1 div.sk-toggleable__content pre {margin: 0.2em;color: black;border-radius: 0.25em;background-color: #f0f8ff;}#sk-container-id-1 input.sk-toggleable__control:checked~div.sk-toggleable__content {max-height: 200px;max-width: 100%;overflow: auto;}#sk-container-id-1 input.sk-toggleable__control:checked~label.sk-toggleable__label-arrow:before {content: \"▾\";}#sk-container-id-1 div.sk-estimator input.sk-toggleable__control:checked~label.sk-toggleable__label {background-color: #d4ebff;}#sk-container-id-1 div.sk-label input.sk-toggleable__control:checked~label.sk-toggleable__label {background-color: #d4ebff;}#sk-container-id-1 input.sk-hidden--visually {border: 0;clip: rect(1px 1px 1px 1px);clip: rect(1px, 1px, 1px, 1px);height: 1px;margin: -1px;overflow: hidden;padding: 0;position: absolute;width: 1px;}#sk-container-id-1 div.sk-estimator {font-family: monospace;background-color: #f0f8ff;border: 1px dotted black;border-radius: 0.25em;box-sizing: border-box;margin-bottom: 0.5em;}#sk-container-id-1 div.sk-estimator:hover {background-color: #d4ebff;}#sk-container-id-1 div.sk-parallel-item::after {content: \"\";width: 100%;border-bottom: 1px solid gray;flex-grow: 1;}#sk-container-id-1 div.sk-label:hover label.sk-toggleable__label {background-color: #d4ebff;}#sk-container-id-1 div.sk-serial::before {content: \"\";position: absolute;border-left: 1px solid gray;box-sizing: border-box;top: 0;bottom: 0;left: 50%;z-index: 0;}#sk-container-id-1 div.sk-serial {display: flex;flex-direction: column;align-items: center;background-color: white;padding-right: 0.2em;padding-left: 0.2em;position: relative;}#sk-container-id-1 div.sk-item {position: relative;z-index: 1;}#sk-container-id-1 div.sk-parallel {display: flex;align-items: stretch;justify-content: center;background-color: white;position: relative;}#sk-container-id-1 div.sk-item::before, #sk-container-id-1 div.sk-parallel-item::before {content: \"\";position: absolute;border-left: 1px solid gray;box-sizing: border-box;top: 0;bottom: 0;left: 50%;z-index: -1;}#sk-container-id-1 div.sk-parallel-item {display: flex;flex-direction: column;z-index: 1;position: relative;background-color: white;}#sk-container-id-1 div.sk-parallel-item:first-child::after {align-self: flex-end;width: 50%;}#sk-container-id-1 div.sk-parallel-item:last-child::after {align-self: flex-start;width: 50%;}#sk-container-id-1 div.sk-parallel-item:only-child::after {width: 0;}#sk-container-id-1 div.sk-dashed-wrapped {border: 1px dashed gray;margin: 0 0.4em 0.5em 0.4em;box-sizing: border-box;padding-bottom: 0.4em;background-color: white;}#sk-container-id-1 div.sk-label label {font-family: monospace;font-weight: bold;display: inline-block;line-height: 1.2em;}#sk-container-id-1 div.sk-label-container {text-align: center;}#sk-container-id-1 div.sk-container {/* jupyter's `normalize.less` sets `[hidden] { display: none; }` but bootstrap.min.css set `[hidden] { display: none !important; }` so we also need the `!important` here to be able to override the default hidden behavior on the sphinx rendered scikit-learn.org. See: https://github.com/scikit-learn/scikit-learn/issues/21755 */display: inline-block !important;position: relative;}#sk-container-id-1 div.sk-text-repr-fallback {display: none;}</style><div id=\"sk-container-id-1\" class=\"sk-top-container\"><div class=\"sk-text-repr-fallback\"><pre>LinearRegression()</pre><b>In a Jupyter environment, please rerun this cell to show the HTML representation or trust the notebook. <br />On GitHub, the HTML representation is unable to render, please try loading this page with nbviewer.org.</b></div><div class=\"sk-container\" hidden><div class=\"sk-item\"><div class=\"sk-estimator sk-toggleable\"><input class=\"sk-toggleable__control sk-hidden--visually\" id=\"sk-estimator-id-1\" type=\"checkbox\" checked><label for=\"sk-estimator-id-1\" class=\"sk-toggleable__label sk-toggleable__label-arrow\">LinearRegression</label><div class=\"sk-toggleable__content\"><pre>LinearRegression()</pre></div></div></div></div></div>"
      ],
      "text/plain": [
       "LinearRegression()"
      ]
     },
     "execution_count": 52,
     "metadata": {},
     "output_type": "execute_result"
    }
   ],
   "source": [
    "model = LinearRegression()\n",
    "model.fit(X_train, y_train)"
   ]
  },
  {
   "cell_type": "code",
   "execution_count": 53,
   "id": "812c40dd",
   "metadata": {
    "execution": {
     "iopub.execute_input": "2025-03-16T12:13:15.583033Z",
     "iopub.status.busy": "2025-03-16T12:13:15.582617Z",
     "iopub.status.idle": "2025-03-16T12:13:15.596560Z",
     "shell.execute_reply": "2025-03-16T12:13:15.595371Z"
    },
    "papermill": {
     "duration": 0.033152,
     "end_time": "2025-03-16T12:13:15.598291",
     "exception": false,
     "start_time": "2025-03-16T12:13:15.565139",
     "status": "completed"
    },
    "tags": []
   },
   "outputs": [
    {
     "name": "stdout",
     "output_type": "stream",
     "text": [
      "MAE: 19324.265744459335\n",
      "MSE: 764577279.1742626\n",
      "RMSE: 27650.99056406954\n",
      "R² Score: 0.8584532932027085\n"
     ]
    }
   ],
   "source": [
    "y_pred = model.predict(X_test)\n",
    "mae = mean_absolute_error(y_test, y_pred)\n",
    "mse = mean_squared_error(y_test, y_pred)\n",
    "rmse = np.sqrt(mse)\n",
    "r2 = r2_score(y_test, y_pred)\n",
    "\n",
    "print(f\"MAE: {mae}\")\n",
    "print(f\"MSE: {mse}\")\n",
    "print(f\"RMSE: {rmse}\")\n",
    "print(f\"R² Score: {r2}\")"
   ]
  },
  {
   "cell_type": "code",
   "execution_count": 54,
   "id": "39798d36",
   "metadata": {
    "execution": {
     "iopub.execute_input": "2025-03-16T12:13:15.633233Z",
     "iopub.status.busy": "2025-03-16T12:13:15.632866Z",
     "iopub.status.idle": "2025-03-16T12:13:15.660253Z",
     "shell.execute_reply": "2025-03-16T12:13:15.659139Z"
    },
    "papermill": {
     "duration": 0.046807,
     "end_time": "2025-03-16T12:13:15.662181",
     "exception": false,
     "start_time": "2025-03-16T12:13:15.615374",
     "status": "completed"
    },
    "tags": []
   },
   "outputs": [],
   "source": [
    "from sklearn.preprocessing import StandardScaler\n",
    "scaler = StandardScaler()\n",
    "X = scaler.fit_transform(X)"
   ]
  },
  {
   "cell_type": "code",
   "execution_count": 55,
   "id": "bb24c623",
   "metadata": {
    "execution": {
     "iopub.execute_input": "2025-03-16T12:13:15.698949Z",
     "iopub.status.busy": "2025-03-16T12:13:15.698446Z",
     "iopub.status.idle": "2025-03-16T12:13:15.705075Z",
     "shell.execute_reply": "2025-03-16T12:13:15.703898Z"
    },
    "papermill": {
     "duration": 0.027504,
     "end_time": "2025-03-16T12:13:15.707007",
     "exception": false,
     "start_time": "2025-03-16T12:13:15.679503",
     "status": "completed"
    },
    "tags": []
   },
   "outputs": [],
   "source": [
    "X_train, X_test, y_train, y_test = train_test_split(X, y, test_size=0.2, random_state=42)\n"
   ]
  },
  {
   "cell_type": "code",
   "execution_count": 56,
   "id": "c17e631a",
   "metadata": {
    "execution": {
     "iopub.execute_input": "2025-03-16T12:13:15.741751Z",
     "iopub.status.busy": "2025-03-16T12:13:15.741381Z",
     "iopub.status.idle": "2025-03-16T12:13:15.754660Z",
     "shell.execute_reply": "2025-03-16T12:13:15.753572Z"
    },
    "papermill": {
     "duration": 0.032436,
     "end_time": "2025-03-16T12:13:15.756395",
     "exception": false,
     "start_time": "2025-03-16T12:13:15.723959",
     "status": "completed"
    },
    "tags": []
   },
   "outputs": [
    {
     "data": {
      "text/html": [
       "<style>#sk-container-id-2 {color: black;background-color: white;}#sk-container-id-2 pre{padding: 0;}#sk-container-id-2 div.sk-toggleable {background-color: white;}#sk-container-id-2 label.sk-toggleable__label {cursor: pointer;display: block;width: 100%;margin-bottom: 0;padding: 0.3em;box-sizing: border-box;text-align: center;}#sk-container-id-2 label.sk-toggleable__label-arrow:before {content: \"▸\";float: left;margin-right: 0.25em;color: #696969;}#sk-container-id-2 label.sk-toggleable__label-arrow:hover:before {color: black;}#sk-container-id-2 div.sk-estimator:hover label.sk-toggleable__label-arrow:before {color: black;}#sk-container-id-2 div.sk-toggleable__content {max-height: 0;max-width: 0;overflow: hidden;text-align: left;background-color: #f0f8ff;}#sk-container-id-2 div.sk-toggleable__content pre {margin: 0.2em;color: black;border-radius: 0.25em;background-color: #f0f8ff;}#sk-container-id-2 input.sk-toggleable__control:checked~div.sk-toggleable__content {max-height: 200px;max-width: 100%;overflow: auto;}#sk-container-id-2 input.sk-toggleable__control:checked~label.sk-toggleable__label-arrow:before {content: \"▾\";}#sk-container-id-2 div.sk-estimator input.sk-toggleable__control:checked~label.sk-toggleable__label {background-color: #d4ebff;}#sk-container-id-2 div.sk-label input.sk-toggleable__control:checked~label.sk-toggleable__label {background-color: #d4ebff;}#sk-container-id-2 input.sk-hidden--visually {border: 0;clip: rect(1px 1px 1px 1px);clip: rect(1px, 1px, 1px, 1px);height: 1px;margin: -1px;overflow: hidden;padding: 0;position: absolute;width: 1px;}#sk-container-id-2 div.sk-estimator {font-family: monospace;background-color: #f0f8ff;border: 1px dotted black;border-radius: 0.25em;box-sizing: border-box;margin-bottom: 0.5em;}#sk-container-id-2 div.sk-estimator:hover {background-color: #d4ebff;}#sk-container-id-2 div.sk-parallel-item::after {content: \"\";width: 100%;border-bottom: 1px solid gray;flex-grow: 1;}#sk-container-id-2 div.sk-label:hover label.sk-toggleable__label {background-color: #d4ebff;}#sk-container-id-2 div.sk-serial::before {content: \"\";position: absolute;border-left: 1px solid gray;box-sizing: border-box;top: 0;bottom: 0;left: 50%;z-index: 0;}#sk-container-id-2 div.sk-serial {display: flex;flex-direction: column;align-items: center;background-color: white;padding-right: 0.2em;padding-left: 0.2em;position: relative;}#sk-container-id-2 div.sk-item {position: relative;z-index: 1;}#sk-container-id-2 div.sk-parallel {display: flex;align-items: stretch;justify-content: center;background-color: white;position: relative;}#sk-container-id-2 div.sk-item::before, #sk-container-id-2 div.sk-parallel-item::before {content: \"\";position: absolute;border-left: 1px solid gray;box-sizing: border-box;top: 0;bottom: 0;left: 50%;z-index: -1;}#sk-container-id-2 div.sk-parallel-item {display: flex;flex-direction: column;z-index: 1;position: relative;background-color: white;}#sk-container-id-2 div.sk-parallel-item:first-child::after {align-self: flex-end;width: 50%;}#sk-container-id-2 div.sk-parallel-item:last-child::after {align-self: flex-start;width: 50%;}#sk-container-id-2 div.sk-parallel-item:only-child::after {width: 0;}#sk-container-id-2 div.sk-dashed-wrapped {border: 1px dashed gray;margin: 0 0.4em 0.5em 0.4em;box-sizing: border-box;padding-bottom: 0.4em;background-color: white;}#sk-container-id-2 div.sk-label label {font-family: monospace;font-weight: bold;display: inline-block;line-height: 1.2em;}#sk-container-id-2 div.sk-label-container {text-align: center;}#sk-container-id-2 div.sk-container {/* jupyter's `normalize.less` sets `[hidden] { display: none; }` but bootstrap.min.css set `[hidden] { display: none !important; }` so we also need the `!important` here to be able to override the default hidden behavior on the sphinx rendered scikit-learn.org. See: https://github.com/scikit-learn/scikit-learn/issues/21755 */display: inline-block !important;position: relative;}#sk-container-id-2 div.sk-text-repr-fallback {display: none;}</style><div id=\"sk-container-id-2\" class=\"sk-top-container\"><div class=\"sk-text-repr-fallback\"><pre>LinearRegression()</pre><b>In a Jupyter environment, please rerun this cell to show the HTML representation or trust the notebook. <br />On GitHub, the HTML representation is unable to render, please try loading this page with nbviewer.org.</b></div><div class=\"sk-container\" hidden><div class=\"sk-item\"><div class=\"sk-estimator sk-toggleable\"><input class=\"sk-toggleable__control sk-hidden--visually\" id=\"sk-estimator-id-2\" type=\"checkbox\" checked><label for=\"sk-estimator-id-2\" class=\"sk-toggleable__label sk-toggleable__label-arrow\">LinearRegression</label><div class=\"sk-toggleable__content\"><pre>LinearRegression()</pre></div></div></div></div></div>"
      ],
      "text/plain": [
       "LinearRegression()"
      ]
     },
     "execution_count": 56,
     "metadata": {},
     "output_type": "execute_result"
    }
   ],
   "source": [
    "model = LinearRegression()\n",
    "model.fit(X_train, y_train)"
   ]
  },
  {
   "cell_type": "code",
   "execution_count": 57,
   "id": "3cb6cb4d",
   "metadata": {
    "execution": {
     "iopub.execute_input": "2025-03-16T12:13:15.793490Z",
     "iopub.status.busy": "2025-03-16T12:13:15.793145Z",
     "iopub.status.idle": "2025-03-16T12:13:15.802608Z",
     "shell.execute_reply": "2025-03-16T12:13:15.801631Z"
    },
    "papermill": {
     "duration": 0.030981,
     "end_time": "2025-03-16T12:13:15.804545",
     "exception": false,
     "start_time": "2025-03-16T12:13:15.773564",
     "status": "completed"
    },
    "tags": []
   },
   "outputs": [
    {
     "name": "stdout",
     "output_type": "stream",
     "text": [
      "MAE: 19331.086125588383\n",
      "MSE: 764700918.3131387\n",
      "RMSE: 27653.226182728456\n",
      "R² Score: 0.8584304038056314\n"
     ]
    }
   ],
   "source": [
    "y_pred = model.predict(X_test)\n",
    "mae = mean_absolute_error(y_test, y_pred)\n",
    "mse = mean_squared_error(y_test, y_pred)\n",
    "rmse = np.sqrt(mse)\n",
    "r2 = r2_score(y_test, y_pred)\n",
    "\n",
    "print(f\"MAE: {mae}\")\n",
    "print(f\"MSE: {mse}\")\n",
    "print(f\"RMSE: {rmse}\")\n",
    "print(f\"R² Score: {r2}\")"
   ]
  },
  {
   "cell_type": "code",
   "execution_count": 58,
   "id": "da6e03c6",
   "metadata": {
    "execution": {
     "iopub.execute_input": "2025-03-16T12:13:15.840458Z",
     "iopub.status.busy": "2025-03-16T12:13:15.840115Z",
     "iopub.status.idle": "2025-03-16T12:13:15.844229Z",
     "shell.execute_reply": "2025-03-16T12:13:15.843106Z"
    },
    "papermill": {
     "duration": 0.023791,
     "end_time": "2025-03-16T12:13:15.845859",
     "exception": false,
     "start_time": "2025-03-16T12:13:15.822068",
     "status": "completed"
    },
    "tags": []
   },
   "outputs": [],
   "source": [
    "pipeline = Pipeline([\n",
    "    (\"poly_features\", PolynomialFeatures()),  \n",
    "    (\"scaler\", StandardScaler()),  \n",
    "    (\"model\", Ridge()) \n",
    "])"
   ]
  },
  {
   "cell_type": "code",
   "execution_count": 59,
   "id": "eb3d0463",
   "metadata": {
    "execution": {
     "iopub.execute_input": "2025-03-16T12:13:15.881953Z",
     "iopub.status.busy": "2025-03-16T12:13:15.881436Z",
     "iopub.status.idle": "2025-03-16T12:13:15.885902Z",
     "shell.execute_reply": "2025-03-16T12:13:15.884903Z"
    },
    "papermill": {
     "duration": 0.024222,
     "end_time": "2025-03-16T12:13:15.887627",
     "exception": false,
     "start_time": "2025-03-16T12:13:15.863405",
     "status": "completed"
    },
    "tags": []
   },
   "outputs": [],
   "source": [
    "param_grid = {\n",
    "    \"poly_features__degree\": [1,2,3],  # Different polynomial degrees\n",
    "    \"model__alpha\": [ 100,200,1000]  # Regularization strength for Ridge\n",
    "}"
   ]
  },
  {
   "cell_type": "code",
   "execution_count": 60,
   "id": "a8ca7091",
   "metadata": {
    "execution": {
     "iopub.execute_input": "2025-03-16T12:13:15.923466Z",
     "iopub.status.busy": "2025-03-16T12:13:15.923090Z",
     "iopub.status.idle": "2025-03-16T12:14:00.178067Z",
     "shell.execute_reply": "2025-03-16T12:14:00.176886Z"
    },
    "papermill": {
     "duration": 44.291675,
     "end_time": "2025-03-16T12:14:00.196189",
     "exception": false,
     "start_time": "2025-03-16T12:13:15.904514",
     "status": "completed"
    },
    "tags": []
   },
   "outputs": [
    {
     "data": {
      "text/html": [
       "<style>#sk-container-id-3 {color: black;background-color: white;}#sk-container-id-3 pre{padding: 0;}#sk-container-id-3 div.sk-toggleable {background-color: white;}#sk-container-id-3 label.sk-toggleable__label {cursor: pointer;display: block;width: 100%;margin-bottom: 0;padding: 0.3em;box-sizing: border-box;text-align: center;}#sk-container-id-3 label.sk-toggleable__label-arrow:before {content: \"▸\";float: left;margin-right: 0.25em;color: #696969;}#sk-container-id-3 label.sk-toggleable__label-arrow:hover:before {color: black;}#sk-container-id-3 div.sk-estimator:hover label.sk-toggleable__label-arrow:before {color: black;}#sk-container-id-3 div.sk-toggleable__content {max-height: 0;max-width: 0;overflow: hidden;text-align: left;background-color: #f0f8ff;}#sk-container-id-3 div.sk-toggleable__content pre {margin: 0.2em;color: black;border-radius: 0.25em;background-color: #f0f8ff;}#sk-container-id-3 input.sk-toggleable__control:checked~div.sk-toggleable__content {max-height: 200px;max-width: 100%;overflow: auto;}#sk-container-id-3 input.sk-toggleable__control:checked~label.sk-toggleable__label-arrow:before {content: \"▾\";}#sk-container-id-3 div.sk-estimator input.sk-toggleable__control:checked~label.sk-toggleable__label {background-color: #d4ebff;}#sk-container-id-3 div.sk-label input.sk-toggleable__control:checked~label.sk-toggleable__label {background-color: #d4ebff;}#sk-container-id-3 input.sk-hidden--visually {border: 0;clip: rect(1px 1px 1px 1px);clip: rect(1px, 1px, 1px, 1px);height: 1px;margin: -1px;overflow: hidden;padding: 0;position: absolute;width: 1px;}#sk-container-id-3 div.sk-estimator {font-family: monospace;background-color: #f0f8ff;border: 1px dotted black;border-radius: 0.25em;box-sizing: border-box;margin-bottom: 0.5em;}#sk-container-id-3 div.sk-estimator:hover {background-color: #d4ebff;}#sk-container-id-3 div.sk-parallel-item::after {content: \"\";width: 100%;border-bottom: 1px solid gray;flex-grow: 1;}#sk-container-id-3 div.sk-label:hover label.sk-toggleable__label {background-color: #d4ebff;}#sk-container-id-3 div.sk-serial::before {content: \"\";position: absolute;border-left: 1px solid gray;box-sizing: border-box;top: 0;bottom: 0;left: 50%;z-index: 0;}#sk-container-id-3 div.sk-serial {display: flex;flex-direction: column;align-items: center;background-color: white;padding-right: 0.2em;padding-left: 0.2em;position: relative;}#sk-container-id-3 div.sk-item {position: relative;z-index: 1;}#sk-container-id-3 div.sk-parallel {display: flex;align-items: stretch;justify-content: center;background-color: white;position: relative;}#sk-container-id-3 div.sk-item::before, #sk-container-id-3 div.sk-parallel-item::before {content: \"\";position: absolute;border-left: 1px solid gray;box-sizing: border-box;top: 0;bottom: 0;left: 50%;z-index: -1;}#sk-container-id-3 div.sk-parallel-item {display: flex;flex-direction: column;z-index: 1;position: relative;background-color: white;}#sk-container-id-3 div.sk-parallel-item:first-child::after {align-self: flex-end;width: 50%;}#sk-container-id-3 div.sk-parallel-item:last-child::after {align-self: flex-start;width: 50%;}#sk-container-id-3 div.sk-parallel-item:only-child::after {width: 0;}#sk-container-id-3 div.sk-dashed-wrapped {border: 1px dashed gray;margin: 0 0.4em 0.5em 0.4em;box-sizing: border-box;padding-bottom: 0.4em;background-color: white;}#sk-container-id-3 div.sk-label label {font-family: monospace;font-weight: bold;display: inline-block;line-height: 1.2em;}#sk-container-id-3 div.sk-label-container {text-align: center;}#sk-container-id-3 div.sk-container {/* jupyter's `normalize.less` sets `[hidden] { display: none; }` but bootstrap.min.css set `[hidden] { display: none !important; }` so we also need the `!important` here to be able to override the default hidden behavior on the sphinx rendered scikit-learn.org. See: https://github.com/scikit-learn/scikit-learn/issues/21755 */display: inline-block !important;position: relative;}#sk-container-id-3 div.sk-text-repr-fallback {display: none;}</style><div id=\"sk-container-id-3\" class=\"sk-top-container\"><div class=\"sk-text-repr-fallback\"><pre>GridSearchCV(cv=5,\n",
       "             estimator=Pipeline(steps=[(&#x27;poly_features&#x27;, PolynomialFeatures()),\n",
       "                                       (&#x27;scaler&#x27;, StandardScaler()),\n",
       "                                       (&#x27;model&#x27;, Ridge())]),\n",
       "             n_jobs=-1,\n",
       "             param_grid={&#x27;model__alpha&#x27;: [100, 200, 1000],\n",
       "                         &#x27;poly_features__degree&#x27;: [1, 2, 3]},\n",
       "             scoring=&#x27;r2&#x27;)</pre><b>In a Jupyter environment, please rerun this cell to show the HTML representation or trust the notebook. <br />On GitHub, the HTML representation is unable to render, please try loading this page with nbviewer.org.</b></div><div class=\"sk-container\" hidden><div class=\"sk-item sk-dashed-wrapped\"><div class=\"sk-label-container\"><div class=\"sk-label sk-toggleable\"><input class=\"sk-toggleable__control sk-hidden--visually\" id=\"sk-estimator-id-3\" type=\"checkbox\" ><label for=\"sk-estimator-id-3\" class=\"sk-toggleable__label sk-toggleable__label-arrow\">GridSearchCV</label><div class=\"sk-toggleable__content\"><pre>GridSearchCV(cv=5,\n",
       "             estimator=Pipeline(steps=[(&#x27;poly_features&#x27;, PolynomialFeatures()),\n",
       "                                       (&#x27;scaler&#x27;, StandardScaler()),\n",
       "                                       (&#x27;model&#x27;, Ridge())]),\n",
       "             n_jobs=-1,\n",
       "             param_grid={&#x27;model__alpha&#x27;: [100, 200, 1000],\n",
       "                         &#x27;poly_features__degree&#x27;: [1, 2, 3]},\n",
       "             scoring=&#x27;r2&#x27;)</pre></div></div></div><div class=\"sk-parallel\"><div class=\"sk-parallel-item\"><div class=\"sk-item\"><div class=\"sk-label-container\"><div class=\"sk-label sk-toggleable\"><input class=\"sk-toggleable__control sk-hidden--visually\" id=\"sk-estimator-id-4\" type=\"checkbox\" ><label for=\"sk-estimator-id-4\" class=\"sk-toggleable__label sk-toggleable__label-arrow\">estimator: Pipeline</label><div class=\"sk-toggleable__content\"><pre>Pipeline(steps=[(&#x27;poly_features&#x27;, PolynomialFeatures()),\n",
       "                (&#x27;scaler&#x27;, StandardScaler()), (&#x27;model&#x27;, Ridge())])</pre></div></div></div><div class=\"sk-serial\"><div class=\"sk-item\"><div class=\"sk-serial\"><div class=\"sk-item\"><div class=\"sk-estimator sk-toggleable\"><input class=\"sk-toggleable__control sk-hidden--visually\" id=\"sk-estimator-id-5\" type=\"checkbox\" ><label for=\"sk-estimator-id-5\" class=\"sk-toggleable__label sk-toggleable__label-arrow\">PolynomialFeatures</label><div class=\"sk-toggleable__content\"><pre>PolynomialFeatures()</pre></div></div></div><div class=\"sk-item\"><div class=\"sk-estimator sk-toggleable\"><input class=\"sk-toggleable__control sk-hidden--visually\" id=\"sk-estimator-id-6\" type=\"checkbox\" ><label for=\"sk-estimator-id-6\" class=\"sk-toggleable__label sk-toggleable__label-arrow\">StandardScaler</label><div class=\"sk-toggleable__content\"><pre>StandardScaler()</pre></div></div></div><div class=\"sk-item\"><div class=\"sk-estimator sk-toggleable\"><input class=\"sk-toggleable__control sk-hidden--visually\" id=\"sk-estimator-id-7\" type=\"checkbox\" ><label for=\"sk-estimator-id-7\" class=\"sk-toggleable__label sk-toggleable__label-arrow\">Ridge</label><div class=\"sk-toggleable__content\"><pre>Ridge()</pre></div></div></div></div></div></div></div></div></div></div></div></div>"
      ],
      "text/plain": [
       "GridSearchCV(cv=5,\n",
       "             estimator=Pipeline(steps=[('poly_features', PolynomialFeatures()),\n",
       "                                       ('scaler', StandardScaler()),\n",
       "                                       ('model', Ridge())]),\n",
       "             n_jobs=-1,\n",
       "             param_grid={'model__alpha': [100, 200, 1000],\n",
       "                         'poly_features__degree': [1, 2, 3]},\n",
       "             scoring='r2')"
      ]
     },
     "execution_count": 60,
     "metadata": {},
     "output_type": "execute_result"
    }
   ],
   "source": [
    "grid_search = GridSearchCV(pipeline, param_grid, cv=5, scoring=\"r2\", n_jobs=-1)\n",
    "grid_search.fit(X_train, y_train.ravel())"
   ]
  },
  {
   "cell_type": "code",
   "execution_count": 61,
   "id": "ae03ef03",
   "metadata": {
    "execution": {
     "iopub.execute_input": "2025-03-16T12:14:00.232706Z",
     "iopub.status.busy": "2025-03-16T12:14:00.232310Z",
     "iopub.status.idle": "2025-03-16T12:14:00.236818Z",
     "shell.execute_reply": "2025-03-16T12:14:00.235748Z"
    },
    "papermill": {
     "duration": 0.025139,
     "end_time": "2025-03-16T12:14:00.238566",
     "exception": false,
     "start_time": "2025-03-16T12:14:00.213427",
     "status": "completed"
    },
    "tags": []
   },
   "outputs": [],
   "source": [
    "best_model = grid_search.best_estimator_\n"
   ]
  },
  {
   "cell_type": "code",
   "execution_count": 62,
   "id": "72bc6eab",
   "metadata": {
    "execution": {
     "iopub.execute_input": "2025-03-16T12:14:00.274661Z",
     "iopub.status.busy": "2025-03-16T12:14:00.274230Z",
     "iopub.status.idle": "2025-03-16T12:14:00.284728Z",
     "shell.execute_reply": "2025-03-16T12:14:00.283465Z"
    },
    "papermill": {
     "duration": 0.030713,
     "end_time": "2025-03-16T12:14:00.286526",
     "exception": false,
     "start_time": "2025-03-16T12:14:00.255813",
     "status": "completed"
    },
    "tags": []
   },
   "outputs": [
    {
     "name": "stdout",
     "output_type": "stream",
     "text": [
      "MAE: 18418.199179812014\n",
      "MSE: 640946470.789007\n",
      "RMSE: 25316.920641914705\n",
      "R² Score: 0.8813411480504477\n"
     ]
    }
   ],
   "source": [
    "y_pred = best_model.predict(X_test)\n",
    "mae = mean_absolute_error(y_test, y_pred)\n",
    "mse = mean_squared_error(y_test, y_pred)\n",
    "rmse = np.sqrt(mse)\n",
    "r2 = r2_score(y_test, y_pred)\n",
    "\n",
    "print(f\"MAE: {mae}\")\n",
    "print(f\"MSE: {mse}\")\n",
    "print(f\"RMSE: {rmse}\")\n",
    "print(f\"R² Score: {r2}\")"
   ]
  },
  {
   "cell_type": "code",
   "execution_count": 63,
   "id": "918a2db0",
   "metadata": {
    "execution": {
     "iopub.execute_input": "2025-03-16T12:14:00.323208Z",
     "iopub.status.busy": "2025-03-16T12:14:00.322639Z",
     "iopub.status.idle": "2025-03-16T12:14:00.345019Z",
     "shell.execute_reply": "2025-03-16T12:14:00.343875Z"
    },
    "papermill": {
     "duration": 0.042448,
     "end_time": "2025-03-16T12:14:00.346677",
     "exception": false,
     "start_time": "2025-03-16T12:14:00.304229",
     "status": "completed"
    },
    "tags": []
   },
   "outputs": [
    {
     "data": {
      "text/html": [
       "<div>\n",
       "<style scoped>\n",
       "    .dataframe tbody tr th:only-of-type {\n",
       "        vertical-align: middle;\n",
       "    }\n",
       "\n",
       "    .dataframe tbody tr th {\n",
       "        vertical-align: top;\n",
       "    }\n",
       "\n",
       "    .dataframe thead th {\n",
       "        text-align: right;\n",
       "    }\n",
       "</style>\n",
       "<table border=\"1\" class=\"dataframe\">\n",
       "  <thead>\n",
       "    <tr style=\"text-align: right;\">\n",
       "      <th></th>\n",
       "      <th>Id</th>\n",
       "      <th>SalePrice</th>\n",
       "    </tr>\n",
       "  </thead>\n",
       "  <tbody>\n",
       "    <tr>\n",
       "      <th>0</th>\n",
       "      <td>1461</td>\n",
       "      <td>169277.052498</td>\n",
       "    </tr>\n",
       "    <tr>\n",
       "      <th>1</th>\n",
       "      <td>1462</td>\n",
       "      <td>187758.393989</td>\n",
       "    </tr>\n",
       "    <tr>\n",
       "      <th>2</th>\n",
       "      <td>1463</td>\n",
       "      <td>183583.683570</td>\n",
       "    </tr>\n",
       "    <tr>\n",
       "      <th>3</th>\n",
       "      <td>1464</td>\n",
       "      <td>179317.477511</td>\n",
       "    </tr>\n",
       "    <tr>\n",
       "      <th>4</th>\n",
       "      <td>1465</td>\n",
       "      <td>150730.079977</td>\n",
       "    </tr>\n",
       "    <tr>\n",
       "      <th>...</th>\n",
       "      <td>...</td>\n",
       "      <td>...</td>\n",
       "    </tr>\n",
       "    <tr>\n",
       "      <th>1454</th>\n",
       "      <td>2915</td>\n",
       "      <td>167081.220949</td>\n",
       "    </tr>\n",
       "    <tr>\n",
       "      <th>1455</th>\n",
       "      <td>2916</td>\n",
       "      <td>164788.778231</td>\n",
       "    </tr>\n",
       "    <tr>\n",
       "      <th>1456</th>\n",
       "      <td>2917</td>\n",
       "      <td>219222.423400</td>\n",
       "    </tr>\n",
       "    <tr>\n",
       "      <th>1457</th>\n",
       "      <td>2918</td>\n",
       "      <td>184924.279659</td>\n",
       "    </tr>\n",
       "    <tr>\n",
       "      <th>1458</th>\n",
       "      <td>2919</td>\n",
       "      <td>187741.866657</td>\n",
       "    </tr>\n",
       "  </tbody>\n",
       "</table>\n",
       "<p>1459 rows × 2 columns</p>\n",
       "</div>"
      ],
      "text/plain": [
       "        Id      SalePrice\n",
       "0     1461  169277.052498\n",
       "1     1462  187758.393989\n",
       "2     1463  183583.683570\n",
       "3     1464  179317.477511\n",
       "4     1465  150730.079977\n",
       "...    ...            ...\n",
       "1454  2915  167081.220949\n",
       "1455  2916  164788.778231\n",
       "1456  2917  219222.423400\n",
       "1457  2918  184924.279659\n",
       "1458  2919  187741.866657\n",
       "\n",
       "[1459 rows x 2 columns]"
      ]
     },
     "execution_count": 63,
     "metadata": {},
     "output_type": "execute_result"
    }
   ],
   "source": [
    "sample =pd.read_csv('/kaggle/input/home-data-for-ml-course/sample_submission.csv')\n",
    "sample"
   ]
  },
  {
   "cell_type": "code",
   "execution_count": 64,
   "id": "72c8fe87",
   "metadata": {
    "execution": {
     "iopub.execute_input": "2025-03-16T12:14:00.383438Z",
     "iopub.status.busy": "2025-03-16T12:14:00.383049Z",
     "iopub.status.idle": "2025-03-16T12:14:00.395933Z",
     "shell.execute_reply": "2025-03-16T12:14:00.394610Z"
    },
    "papermill": {
     "duration": 0.033946,
     "end_time": "2025-03-16T12:14:00.398389",
     "exception": false,
     "start_time": "2025-03-16T12:14:00.364443",
     "status": "completed"
    },
    "tags": []
   },
   "outputs": [],
   "source": [
    "y_pred = best_model.predict(test)\n",
    "sid=test[np.array('Id')]\n",
    "sid=np.array(sid)"
   ]
  },
  {
   "cell_type": "code",
   "execution_count": 65,
   "id": "2fa41370",
   "metadata": {
    "execution": {
     "iopub.execute_input": "2025-03-16T12:14:00.434841Z",
     "iopub.status.busy": "2025-03-16T12:14:00.434425Z",
     "iopub.status.idle": "2025-03-16T12:14:00.453410Z",
     "shell.execute_reply": "2025-03-16T12:14:00.452284Z"
    },
    "papermill": {
     "duration": 0.039022,
     "end_time": "2025-03-16T12:14:00.455157",
     "exception": false,
     "start_time": "2025-03-16T12:14:00.416135",
     "status": "completed"
    },
    "tags": []
   },
   "outputs": [
    {
     "data": {
      "text/html": [
       "<div>\n",
       "<style scoped>\n",
       "    .dataframe tbody tr th:only-of-type {\n",
       "        vertical-align: middle;\n",
       "    }\n",
       "\n",
       "    .dataframe tbody tr th {\n",
       "        vertical-align: top;\n",
       "    }\n",
       "\n",
       "    .dataframe thead th {\n",
       "        text-align: right;\n",
       "    }\n",
       "</style>\n",
       "<table border=\"1\" class=\"dataframe\">\n",
       "  <thead>\n",
       "    <tr style=\"text-align: right;\">\n",
       "      <th></th>\n",
       "      <th>Id</th>\n",
       "      <th>MSSubClass</th>\n",
       "      <th>MSZoning</th>\n",
       "      <th>LotFrontage</th>\n",
       "      <th>LotArea</th>\n",
       "      <th>Street</th>\n",
       "      <th>Alley</th>\n",
       "      <th>LotShape</th>\n",
       "      <th>LandContour</th>\n",
       "      <th>Utilities</th>\n",
       "      <th>...</th>\n",
       "      <th>ScreenPorch</th>\n",
       "      <th>PoolArea</th>\n",
       "      <th>PoolQC</th>\n",
       "      <th>Fence</th>\n",
       "      <th>MiscFeature</th>\n",
       "      <th>MiscVal</th>\n",
       "      <th>MoSold</th>\n",
       "      <th>YrSold</th>\n",
       "      <th>SaleType</th>\n",
       "      <th>SaleCondition</th>\n",
       "    </tr>\n",
       "  </thead>\n",
       "  <tbody>\n",
       "    <tr>\n",
       "      <th>0</th>\n",
       "      <td>1461</td>\n",
       "      <td>20</td>\n",
       "      <td>2</td>\n",
       "      <td>80.0</td>\n",
       "      <td>11622</td>\n",
       "      <td>1</td>\n",
       "      <td>2</td>\n",
       "      <td>3</td>\n",
       "      <td>3</td>\n",
       "      <td>0</td>\n",
       "      <td>...</td>\n",
       "      <td>120</td>\n",
       "      <td>0</td>\n",
       "      <td>2</td>\n",
       "      <td>2</td>\n",
       "      <td>3</td>\n",
       "      <td>0</td>\n",
       "      <td>6</td>\n",
       "      <td>2010</td>\n",
       "      <td>8</td>\n",
       "      <td>4</td>\n",
       "    </tr>\n",
       "    <tr>\n",
       "      <th>1</th>\n",
       "      <td>1462</td>\n",
       "      <td>20</td>\n",
       "      <td>3</td>\n",
       "      <td>81.0</td>\n",
       "      <td>14267</td>\n",
       "      <td>1</td>\n",
       "      <td>2</td>\n",
       "      <td>0</td>\n",
       "      <td>3</td>\n",
       "      <td>0</td>\n",
       "      <td>...</td>\n",
       "      <td>0</td>\n",
       "      <td>0</td>\n",
       "      <td>2</td>\n",
       "      <td>4</td>\n",
       "      <td>0</td>\n",
       "      <td>12500</td>\n",
       "      <td>6</td>\n",
       "      <td>2010</td>\n",
       "      <td>8</td>\n",
       "      <td>4</td>\n",
       "    </tr>\n",
       "    <tr>\n",
       "      <th>2</th>\n",
       "      <td>1463</td>\n",
       "      <td>60</td>\n",
       "      <td>3</td>\n",
       "      <td>74.0</td>\n",
       "      <td>13830</td>\n",
       "      <td>1</td>\n",
       "      <td>2</td>\n",
       "      <td>0</td>\n",
       "      <td>3</td>\n",
       "      <td>0</td>\n",
       "      <td>...</td>\n",
       "      <td>0</td>\n",
       "      <td>0</td>\n",
       "      <td>2</td>\n",
       "      <td>2</td>\n",
       "      <td>3</td>\n",
       "      <td>0</td>\n",
       "      <td>3</td>\n",
       "      <td>2010</td>\n",
       "      <td>8</td>\n",
       "      <td>4</td>\n",
       "    </tr>\n",
       "    <tr>\n",
       "      <th>3</th>\n",
       "      <td>1464</td>\n",
       "      <td>60</td>\n",
       "      <td>3</td>\n",
       "      <td>78.0</td>\n",
       "      <td>9978</td>\n",
       "      <td>1</td>\n",
       "      <td>2</td>\n",
       "      <td>0</td>\n",
       "      <td>3</td>\n",
       "      <td>0</td>\n",
       "      <td>...</td>\n",
       "      <td>0</td>\n",
       "      <td>0</td>\n",
       "      <td>2</td>\n",
       "      <td>4</td>\n",
       "      <td>3</td>\n",
       "      <td>0</td>\n",
       "      <td>6</td>\n",
       "      <td>2010</td>\n",
       "      <td>8</td>\n",
       "      <td>4</td>\n",
       "    </tr>\n",
       "    <tr>\n",
       "      <th>4</th>\n",
       "      <td>1465</td>\n",
       "      <td>120</td>\n",
       "      <td>3</td>\n",
       "      <td>43.0</td>\n",
       "      <td>5005</td>\n",
       "      <td>1</td>\n",
       "      <td>2</td>\n",
       "      <td>0</td>\n",
       "      <td>1</td>\n",
       "      <td>0</td>\n",
       "      <td>...</td>\n",
       "      <td>144</td>\n",
       "      <td>0</td>\n",
       "      <td>2</td>\n",
       "      <td>4</td>\n",
       "      <td>3</td>\n",
       "      <td>0</td>\n",
       "      <td>1</td>\n",
       "      <td>2010</td>\n",
       "      <td>8</td>\n",
       "      <td>4</td>\n",
       "    </tr>\n",
       "  </tbody>\n",
       "</table>\n",
       "<p>5 rows × 80 columns</p>\n",
       "</div>"
      ],
      "text/plain": [
       "     Id  MSSubClass  MSZoning  LotFrontage  LotArea  Street  Alley  LotShape  \\\n",
       "0  1461          20         2         80.0    11622       1      2         3   \n",
       "1  1462          20         3         81.0    14267       1      2         0   \n",
       "2  1463          60         3         74.0    13830       1      2         0   \n",
       "3  1464          60         3         78.0     9978       1      2         0   \n",
       "4  1465         120         3         43.0     5005       1      2         0   \n",
       "\n",
       "   LandContour  Utilities  ...  ScreenPorch  PoolArea  PoolQC  Fence  \\\n",
       "0            3          0  ...          120         0       2      2   \n",
       "1            3          0  ...            0         0       2      4   \n",
       "2            3          0  ...            0         0       2      2   \n",
       "3            3          0  ...            0         0       2      4   \n",
       "4            1          0  ...          144         0       2      4   \n",
       "\n",
       "   MiscFeature  MiscVal  MoSold  YrSold  SaleType  SaleCondition  \n",
       "0            3        0       6    2010         8              4  \n",
       "1            0    12500       6    2010         8              4  \n",
       "2            3        0       3    2010         8              4  \n",
       "3            3        0       6    2010         8              4  \n",
       "4            3        0       1    2010         8              4  \n",
       "\n",
       "[5 rows x 80 columns]"
      ]
     },
     "execution_count": 65,
     "metadata": {},
     "output_type": "execute_result"
    }
   ],
   "source": [
    "test.head()\n"
   ]
  },
  {
   "cell_type": "code",
   "execution_count": 66,
   "id": "0bb2f120",
   "metadata": {
    "execution": {
     "iopub.execute_input": "2025-03-16T12:14:00.492398Z",
     "iopub.status.busy": "2025-03-16T12:14:00.492060Z",
     "iopub.status.idle": "2025-03-16T12:14:00.497008Z",
     "shell.execute_reply": "2025-03-16T12:14:00.496053Z"
    },
    "papermill": {
     "duration": 0.025847,
     "end_time": "2025-03-16T12:14:00.498921",
     "exception": false,
     "start_time": "2025-03-16T12:14:00.473074",
     "status": "completed"
    },
    "tags": []
   },
   "outputs": [],
   "source": [
    "result = pd.DataFrame({\n",
    "    'Id': sid,   \n",
    "    'SalePrice': y_pred  \n",
    "})"
   ]
  },
  {
   "cell_type": "code",
   "execution_count": 67,
   "id": "9cbd4e8e",
   "metadata": {
    "execution": {
     "iopub.execute_input": "2025-03-16T12:14:00.536143Z",
     "iopub.status.busy": "2025-03-16T12:14:00.535722Z",
     "iopub.status.idle": "2025-03-16T12:14:00.545273Z",
     "shell.execute_reply": "2025-03-16T12:14:00.544069Z"
    },
    "papermill": {
     "duration": 0.029899,
     "end_time": "2025-03-16T12:14:00.546904",
     "exception": false,
     "start_time": "2025-03-16T12:14:00.517005",
     "status": "completed"
    },
    "tags": []
   },
   "outputs": [
    {
     "data": {
      "text/html": [
       "<div>\n",
       "<style scoped>\n",
       "    .dataframe tbody tr th:only-of-type {\n",
       "        vertical-align: middle;\n",
       "    }\n",
       "\n",
       "    .dataframe tbody tr th {\n",
       "        vertical-align: top;\n",
       "    }\n",
       "\n",
       "    .dataframe thead th {\n",
       "        text-align: right;\n",
       "    }\n",
       "</style>\n",
       "<table border=\"1\" class=\"dataframe\">\n",
       "  <thead>\n",
       "    <tr style=\"text-align: right;\">\n",
       "      <th></th>\n",
       "      <th>Id</th>\n",
       "      <th>SalePrice</th>\n",
       "    </tr>\n",
       "  </thead>\n",
       "  <tbody>\n",
       "    <tr>\n",
       "      <th>0</th>\n",
       "      <td>1461</td>\n",
       "      <td>5.324650e+07</td>\n",
       "    </tr>\n",
       "    <tr>\n",
       "      <th>1</th>\n",
       "      <td>1462</td>\n",
       "      <td>6.727156e+07</td>\n",
       "    </tr>\n",
       "    <tr>\n",
       "      <th>2</th>\n",
       "      <td>1463</td>\n",
       "      <td>6.699026e+07</td>\n",
       "    </tr>\n",
       "    <tr>\n",
       "      <th>3</th>\n",
       "      <td>1464</td>\n",
       "      <td>5.799886e+07</td>\n",
       "    </tr>\n",
       "    <tr>\n",
       "      <th>4</th>\n",
       "      <td>1465</td>\n",
       "      <td>4.344039e+07</td>\n",
       "    </tr>\n",
       "  </tbody>\n",
       "</table>\n",
       "</div>"
      ],
      "text/plain": [
       "     Id     SalePrice\n",
       "0  1461  5.324650e+07\n",
       "1  1462  6.727156e+07\n",
       "2  1463  6.699026e+07\n",
       "3  1464  5.799886e+07\n",
       "4  1465  4.344039e+07"
      ]
     },
     "execution_count": 67,
     "metadata": {},
     "output_type": "execute_result"
    }
   ],
   "source": [
    "result.head()\n"
   ]
  },
  {
   "cell_type": "code",
   "execution_count": 68,
   "id": "e4c3adc5",
   "metadata": {
    "execution": {
     "iopub.execute_input": "2025-03-16T12:14:00.584004Z",
     "iopub.status.busy": "2025-03-16T12:14:00.583596Z",
     "iopub.status.idle": "2025-03-16T12:14:00.597420Z",
     "shell.execute_reply": "2025-03-16T12:14:00.596149Z"
    },
    "papermill": {
     "duration": 0.034763,
     "end_time": "2025-03-16T12:14:00.599524",
     "exception": false,
     "start_time": "2025-03-16T12:14:00.564761",
     "status": "completed"
    },
    "tags": []
   },
   "outputs": [],
   "source": [
    "result.to_csv('submission.csv', index=False)\n"
   ]
  },
  {
   "cell_type": "code",
   "execution_count": null,
   "id": "89c35214",
   "metadata": {
    "papermill": {
     "duration": 0.01773,
     "end_time": "2025-03-16T12:14:00.635809",
     "exception": false,
     "start_time": "2025-03-16T12:14:00.618079",
     "status": "completed"
    },
    "tags": []
   },
   "outputs": [],
   "source": []
  },
  {
   "cell_type": "code",
   "execution_count": null,
   "id": "3a7db6b5",
   "metadata": {
    "papermill": {
     "duration": 0.018438,
     "end_time": "2025-03-16T12:14:00.672888",
     "exception": false,
     "start_time": "2025-03-16T12:14:00.654450",
     "status": "completed"
    },
    "tags": []
   },
   "outputs": [],
   "source": []
  },
  {
   "cell_type": "code",
   "execution_count": null,
   "id": "e29bfb3c",
   "metadata": {
    "papermill": {
     "duration": 0.01763,
     "end_time": "2025-03-16T12:14:00.708441",
     "exception": false,
     "start_time": "2025-03-16T12:14:00.690811",
     "status": "completed"
    },
    "tags": []
   },
   "outputs": [],
   "source": []
  },
  {
   "cell_type": "code",
   "execution_count": null,
   "id": "c635530d",
   "metadata": {
    "papermill": {
     "duration": 0.017846,
     "end_time": "2025-03-16T12:14:00.745023",
     "exception": false,
     "start_time": "2025-03-16T12:14:00.727177",
     "status": "completed"
    },
    "tags": []
   },
   "outputs": [],
   "source": []
  },
  {
   "cell_type": "code",
   "execution_count": null,
   "id": "2b50b289",
   "metadata": {
    "papermill": {
     "duration": 0.017316,
     "end_time": "2025-03-16T12:14:00.780035",
     "exception": false,
     "start_time": "2025-03-16T12:14:00.762719",
     "status": "completed"
    },
    "tags": []
   },
   "outputs": [],
   "source": []
  },
  {
   "cell_type": "code",
   "execution_count": null,
   "id": "f255125e",
   "metadata": {
    "papermill": {
     "duration": 0.017385,
     "end_time": "2025-03-16T12:14:00.815341",
     "exception": false,
     "start_time": "2025-03-16T12:14:00.797956",
     "status": "completed"
    },
    "tags": []
   },
   "outputs": [],
   "source": []
  },
  {
   "cell_type": "code",
   "execution_count": null,
   "id": "79333eb7",
   "metadata": {
    "papermill": {
     "duration": 0.017992,
     "end_time": "2025-03-16T12:14:00.851046",
     "exception": false,
     "start_time": "2025-03-16T12:14:00.833054",
     "status": "completed"
    },
    "tags": []
   },
   "outputs": [],
   "source": []
  },
  {
   "cell_type": "code",
   "execution_count": null,
   "id": "5140ed08",
   "metadata": {
    "papermill": {
     "duration": 0.017484,
     "end_time": "2025-03-16T12:14:00.886537",
     "exception": false,
     "start_time": "2025-03-16T12:14:00.869053",
     "status": "completed"
    },
    "tags": []
   },
   "outputs": [],
   "source": []
  },
  {
   "cell_type": "code",
   "execution_count": null,
   "id": "7823e3d6",
   "metadata": {
    "papermill": {
     "duration": 0.017941,
     "end_time": "2025-03-16T12:14:00.922283",
     "exception": false,
     "start_time": "2025-03-16T12:14:00.904342",
     "status": "completed"
    },
    "tags": []
   },
   "outputs": [],
   "source": []
  },
  {
   "cell_type": "code",
   "execution_count": null,
   "id": "639b75d5",
   "metadata": {
    "papermill": {
     "duration": 0.017299,
     "end_time": "2025-03-16T12:14:00.957676",
     "exception": false,
     "start_time": "2025-03-16T12:14:00.940377",
     "status": "completed"
    },
    "tags": []
   },
   "outputs": [],
   "source": []
  },
  {
   "cell_type": "code",
   "execution_count": null,
   "id": "04f51f44",
   "metadata": {
    "papermill": {
     "duration": 0.017807,
     "end_time": "2025-03-16T12:14:00.994760",
     "exception": false,
     "start_time": "2025-03-16T12:14:00.976953",
     "status": "completed"
    },
    "tags": []
   },
   "outputs": [],
   "source": []
  }
 ],
 "metadata": {
  "kaggle": {
   "accelerator": "none",
   "dataSources": [
    {
     "databundleVersionId": 111096,
     "sourceId": 10211,
     "sourceType": "competition"
    }
   ],
   "dockerImageVersionId": 30918,
   "isGpuEnabled": false,
   "isInternetEnabled": true,
   "language": "python",
   "sourceType": "notebook"
  },
  "kernelspec": {
   "display_name": "Python 3",
   "language": "python",
   "name": "python3"
  },
  "language_info": {
   "codemirror_mode": {
    "name": "ipython",
    "version": 3
   },
   "file_extension": ".py",
   "mimetype": "text/x-python",
   "name": "python",
   "nbconvert_exporter": "python",
   "pygments_lexer": "ipython3",
   "version": "3.10.12"
  },
  "papermill": {
   "default_parameters": {},
   "duration": 54.748647,
   "end_time": "2025-03-16T12:14:01.733185",
   "environment_variables": {},
   "exception": null,
   "input_path": "__notebook__.ipynb",
   "output_path": "__notebook__.ipynb",
   "parameters": {},
   "start_time": "2025-03-16T12:13:06.984538",
   "version": "2.6.0"
  }
 },
 "nbformat": 4,
 "nbformat_minor": 5
}
